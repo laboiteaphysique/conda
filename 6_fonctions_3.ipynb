{
 "cells": [
  {
   "cell_type": "markdown",
   "metadata": {},
   "source": [
    "# Travailler avec les fonctions (3) : \n",
    "\n",
    "Ce notebook est destiné à revoir la technique de programmation abordée dans les notebooks 4 et 5.\n",
    "\n",
    "## 1- La fonction randint :\n",
    "\n",
    "Cette fonction préssente dans le module de fonctions random permet de générer un nombre aléatoire. Ce type de fonction est très utilisé, notamment dans les programmes de jeux.\n",
    "\n",
    "Pour obtenir de l'aide sur une fonction, on peut utiliser la fonction help().\n",
    "Executer la cellule suivante :"
   ]
  },
  {
   "cell_type": "code",
   "execution_count": null,
   "metadata": {},
   "outputs": [],
   "source": [
    "from random import randint  # on décide ici de n'importer que la fonction que l'on souhaite utiliser\n",
    "help(randint)               "
   ]
  },
  {
   "cell_type": "markdown",
   "metadata": {},
   "source": [
    "On souhaite simuler un lancer de dé. A partir de l'indication fournie par l'aide sur la fonction randint, écrire une fonction lancer_de() qui renvoie un nombre aléatoire entre 1 et 6 :"
   ]
  },
  {
   "cell_type": "code",
   "execution_count": null,
   "metadata": {},
   "outputs": [],
   "source": [
    "# simulation d'un lancer de dés :\n"
   ]
  },
  {
   "cell_type": "markdown",
   "metadata": {},
   "source": [
    "## 2- Affichage d'un dé :\n",
    "\n",
    "On souhaite créer une fonction afficher_de(valeur) qui ne renvoie rien mais qui exécute les instructions nécessaires à l'affichage d'une face de dé correspondant au paramètre **valeur** fourni à la fonction.\n",
    "Exemple de \"graphisme\" possible :\n",
    "\n",
    "![title](images/faces_des.png)\n",
    "\n",
    "Ecrire ci-dessous le code nécessaire :"
   ]
  },
  {
   "cell_type": "code",
   "execution_count": null,
   "metadata": {},
   "outputs": [],
   "source": [
    "# Affichage d'une face de dés selon la valeur passée en paramètre :\n"
   ]
  },
  {
   "cell_type": "markdown",
   "metadata": {},
   "source": [
    "## 3- Mise en place d'un petit jeu de dés :\n",
    "\n",
    "Ecrire un programme permettant le lancer virtuel de 3 dés. Ce code utilisera les deux fonctions écrites ci-avant :"
   ]
  },
  {
   "cell_type": "code",
   "execution_count": null,
   "metadata": {},
   "outputs": [],
   "source": [
    "# Mon premier jeu de dés :\n"
   ]
  }
 ],
 "metadata": {
  "kernelspec": {
   "display_name": "Python 3",
   "language": "python",
   "name": "python3"
  },
  "language_info": {
   "codemirror_mode": {
    "name": "ipython",
    "version": 3
   },
   "file_extension": ".py",
   "mimetype": "text/x-python",
   "name": "python",
   "nbconvert_exporter": "python",
   "pygments_lexer": "ipython3",
   "version": "3.7.3"
  }
 },
 "nbformat": 4,
 "nbformat_minor": 2
}
