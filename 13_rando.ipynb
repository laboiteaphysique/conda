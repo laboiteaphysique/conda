{
 "cells": [
  {
   "cell_type": "markdown",
   "metadata": {},
   "source": [
    "# Données en table : \n",
    "# Exploitation des enregistrements d’un GPS réalisés lors d’une randonnée :\n",
    "\n",
    "### Notebook réalisé à partir d’une activité proposée par A.Leveiller, collègue de NSI qui travaille dans le département du Rhône)\n",
    "\n",
    "![title](images/photo_rando.png)\n",
    "\n",
    "\n",
    "\n",
    "#### Les données fournies par le GPS à la fin de la randonnée ont été consignées dans le fichier [rando.csv](./images/rando.csv) \n",
    "\n",
    "\n"
   ]
  },
  {
   "cell_type": "markdown",
   "metadata": {},
   "source": [
    "### Niveau 1 : \n",
    "\n",
    "Ouvrir ce fichier rando.csv **avec Python** et être capable de faire apparaître les données du fichier dans une liste de listes : "
   ]
  },
  {
   "cell_type": "code",
   "execution_count": null,
   "metadata": {},
   "outputs": [],
   "source": []
  },
  {
   "cell_type": "markdown",
   "metadata": {},
   "source": [
    "### Niveau 2 : \n",
    "\n",
    "Extraire les données d’altitude et de distance dans deux listes séparées. L’objectif étant de faire par la suite du traitement numérique, les éléments de ces listes devront être du type numérique le plus approprié."
   ]
  },
  {
   "cell_type": "code",
   "execution_count": null,
   "metadata": {},
   "outputs": [],
   "source": [
    "# création des listes demandées\n",
    "altitude = []\n",
    "distance = []\n",
    "\n",
    "# code à écrire :\n",
    "\n",
    "\n",
    "\n",
    "# vérification par affichage :    \n",
    "print('altitudes : ',altitude, '\\n')\n",
    "print('distances : ',distance)"
   ]
  },
  {
   "cell_type": "markdown",
   "metadata": {},
   "source": [
    "### Niveau 3 : \n",
    "\n",
    "Créer une nouvelle liste des distances cumulées (la dernière valeur de la liste sera donc la distance totale parcourue pendant cette randonnée)"
   ]
  },
  {
   "cell_type": "code",
   "execution_count": null,
   "metadata": {},
   "outputs": [],
   "source": [
    " \n",
    "# on se sert de la liste distance pour créer la nouvelle liste :\n",
    "distance_cumul = [0]\n",
    "\n",
    "# code à écrire :\n",
    "\n",
    "\n",
    "    \n",
    "# vérification par affichage :    \n",
    "print('distances : ',distance, '\\n')\n",
    "print('distances cumulées : ',distance_cumul)"
   ]
  },
  {
   "cell_type": "markdown",
   "metadata": {},
   "source": [
    "### Niveau 4 : \n",
    "\n",
    "Entre deux points de mesure :\n",
    "\n",
    "    • si l’altitude a augmenté on dit qu’il y a eu un dénivelé positif \n",
    "    • si elle a diminué, c’est un dénivelé négatif\n",
    "    • sinon c’est un dénivelé nul (autrement dit du plat)\n",
    "    \n",
    "Plusieurs fonctions sont demandées : on n’oubliera pas de les **documenter** !\n",
    "\n",
    "→ Ecrire une fonction denivele_plus(ptA, ptB) qui renvoie le dénivelé positif entre deux points quelconques (ptA et ptB) du trajet.\n",
    "\n"
   ]
  },
  {
   "cell_type": "code",
   "execution_count": null,
   "metadata": {},
   "outputs": [],
   "source": [
    "def denivele_plus(ptA, ptB):\n",
    "    \"\"\" ...documenter la fonction !\n",
    "    \"\"\"\n",
    "    \n",
    "    return ????\n",
    "\n",
    "#test de la fonction : denivele_plus(0,4) doit donner 21 car du point 0 au point 4 les altitudes sont :\n",
    "# 728, 728, 733, 724, 740\n",
    "# donc un dénivelé positif de 728 à 733 (5 m) et un autre de 724 à 740 (16 m) soit un total de 21 m\n",
    "print(denivele_plus(0,4))"
   ]
  },
  {
   "cell_type": "markdown",
   "metadata": {},
   "source": [
    "→ Ecrire une fonction denivele_moins(ptA, ptB) qui renvoie le dénivelé positif entre deux points quelconques (ptA et ptB) du trajet."
   ]
  },
  {
   "cell_type": "code",
   "execution_count": null,
   "metadata": {},
   "outputs": [],
   "source": [
    "def denivele_moins(ptA, ptB):\n",
    "    \"\"\" ...documenter la fonction !\n",
    "    \"\"\"\n",
    "    \n",
    "    return ????\n",
    "\n",
    "#test de la fonction : denivele_moins(0,4) doit donner 9 car du point 0 au point 4 les altitudes sont :\n",
    "# 728, 728, 733, 724, 740\n",
    "# donc un seul dénivelé négatif de 733 à 724 soit 9 mètres.\n",
    "\n",
    "print(denivele_moins(0,4))"
   ]
  },
  {
   "cell_type": "markdown",
   "metadata": {},
   "source": [
    "→ Ecrire une fonction denivele(ptA, ptB) qui renvoie le dénivelé entre deux points quelconques (ptA et ptB) du trajet."
   ]
  },
  {
   "cell_type": "code",
   "execution_count": null,
   "metadata": {},
   "outputs": [],
   "source": [
    "def denivele(ptA, ptB): \n",
    "    \"\"\" ...documenter la fonction !\n",
    "    \"\"\"\n",
    "    \n",
    "    return ????\n",
    "\n",
    "#tests de la fonction : \n",
    "print(denivele(0,4))\n",
    "\n",
    "print(denivele(0,4))"
   ]
  },
  {
   "cell_type": "markdown",
   "metadata": {},
   "source": [
    "→ Ecrire une fonction distance(ptA, ptB) qui renvoie la distance parcourue entre deux points quelconques (ptA et ptB) du trajet."
   ]
  },
  {
   "cell_type": "code",
   "execution_count": null,
   "metadata": {},
   "outputs": [],
   "source": [
    "def distance(ptA, ptB):\n",
    "    \"\"\" ...documenter la fonction !\n",
    "    \"\"\"\n",
    "    \n",
    "    return ????\n",
    "\n",
    "# test de la fonction\n",
    "print(distance(0,32))\n"
   ]
  },
  {
   "cell_type": "markdown",
   "metadata": {},
   "source": [
    "Utiliser ces fonctions pour sortir un affichage texte d’analyse du parcours entre deux points de la forme :\n",
    "\n",
    "Entre le point N° _ et le point N° _ du parcours :\n",
    "\n",
    "- le dénivelé positif a été de ____ m\n",
    "- le dénivelé négatif a été de ____ m\n",
    "- le denivelé global a été de _____ m\n",
    "- la distance parcourue a été de ____ m\n"
   ]
  },
  {
   "cell_type": "code",
   "execution_count": null,
   "metadata": {},
   "outputs": [],
   "source": [
    "# pourquoi pas créer une fonction globale qui se sert des fonctions précédentes ?\n",
    "\n",
    "def stats(ptA, ptB):\n",
    "    \"\"\" ...documenter la fonction !\n",
    "    \"\"\"\n",
    "    \n",
    "    return ????\n",
    "\n",
    "\n",
    "print(stats(0,32))"
   ]
  },
  {
   "cell_type": "markdown",
   "metadata": {},
   "source": [
    "Faire le nécessaire pour améliorer la présentation du dernier résultat...\n",
    "\n",
    "Par exemple :\n",
    "\n",
    "print(stats(0,32)) donne pour la distance :\n",
    "- la distance parcourue a été de 2458.2000000000003 m\n",
    "\n",
    "or écrire :\n",
    "\n",
    "- la distance parcourue a été de 2458.2 m\n",
    "\n",
    "serait plus raisonnable !"
   ]
  },
  {
   "cell_type": "code",
   "execution_count": null,
   "metadata": {},
   "outputs": [],
   "source": [
    "def stats(ptA, ptB):\n",
    "    \"\"\" ...documenter la fonction !\n",
    "    \"\"\"\n",
    "    \n",
    "    return ????\n",
    "\n",
    "\n",
    "print(stats(0,32))"
   ]
  },
  {
   "cell_type": "markdown",
   "metadata": {},
   "source": [
    "### Niveau 5 : \n",
    "\n",
    "Faire tracer le profil topographique du parcours (altitude en fonction de la distance parcourue). On utilisera le module pyplot.\n",
    "\n",
    "Un exemple d’affichage :\n",
    "\n",
    "![title](images/rando_courbe.png)\n"
   ]
  },
  {
   "cell_type": "code",
   "execution_count": null,
   "metadata": {},
   "outputs": [],
   "source": [
    "# Cette première ligne de 'code' est nécessaire pour le notebook jupyter.\n",
    "# Ne pas la copier si on souhaite utiliser le reste du code dans Thonny :\n",
    "%matplotlib inline \n",
    "\n"
   ]
  }
 ],
 "metadata": {
  "kernelspec": {
   "display_name": "Python 3",
   "language": "python",
   "name": "python3"
  },
  "language_info": {
   "codemirror_mode": {
    "name": "ipython",
    "version": 3
   },
   "file_extension": ".py",
   "mimetype": "text/x-python",
   "name": "python",
   "nbconvert_exporter": "python",
   "pygments_lexer": "ipython3",
   "version": "3.7.3"
  }
 },
 "nbformat": 4,
 "nbformat_minor": 2
}
