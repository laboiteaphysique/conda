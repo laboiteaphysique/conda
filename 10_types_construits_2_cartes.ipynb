{
 "cells": [
  {
   "cell_type": "markdown",
   "metadata": {},
   "source": [
    "#  Types construits (2) : un mini jeu de cartes\n",
    "\n",
    "Objectifs : \n",
    "\n",
    "    1- choisir une structure de données pour représenter un (mini) jeu de cartes\n",
    "    \n",
    "    2- mélanger ce jeu de cartes\n",
    "    \n",
    "    3- améliorer cette structure pour pouvoir faire affronter deux jeux dans une bataille de cartes et déclarer le vainqueur\n",
    "\n",
    "\n",
    "\n",
    "## 1- Créer la structure de données\n",
    "\n",
    "On souhaite représenter une série de 8 cartes tirées d'un jeu de 32 :\n",
    "\n",
    "\n",
    "![title](images/cartes_r.png)\n",
    "\n",
    "On propose différentes structures pour représenter cette série de cartes :\n",
    "\n",
    "jeu = \\[7, 8, 9 , 10, 'Valet', 'Dame', 'Roi', 'As']\n",
    "\n",
    "jeu = (7, 8, 9 , 10, 'Valet', 'Dame', 'Roi', 'As')\n",
    "\n",
    "jeu = \\['Sept', 'Huit','Neuf' ,'Dix', 'Valet', 'Dame', 'Roi', 'As']\n",
    "\n",
    "jeu = ('Sept', 'Huit','Neuf' ,'Dix', 'Valet', 'Dame', 'Roi', 'As')\n",
    "\n",
    "On décide de travailler avec la troisième : pourriez-vos expliquer les raisons de ce choix ?\n"
   ]
  },
  {
   "cell_type": "markdown",
   "metadata": {},
   "source": [
    "## 2- Mélanger le jeu de cartes\n",
    "\n",
    "### 2.1- C'est très facile avec la méthode shuffle() :\n",
    "\n",
    "On peut mélanger très facilement les éléments d'une liste avec la méthode *shuffle()* du module *random*.\n",
    "\n",
    "**-> donner la traduction française des mots 'random' et 'shuffle'**\n"
   ]
  },
  {
   "cell_type": "markdown",
   "metadata": {},
   "source": [
    "Remarque : on a déjà rencontré le module random dans le notebook N°6, avec l'utilisation de la méthode randint( ). Il pourra être utile pour réaliser cette nouvelle application d'aller revoir le début du notebook N°6"
   ]
  },
  {
   "cell_type": "code",
   "execution_count": null,
   "metadata": {},
   "outputs": [],
   "source": [
    "# exemple d'utilisation (exécuter plusieurs fois cette cellule) :\n",
    "import random\n",
    "animaux = ['chien','chat', 'oiseau', 'poisson', 'papillon']\n",
    "random.shuffle(animaux)\n",
    "print(animaux)\n"
   ]
  },
  {
   "cell_type": "code",
   "execution_count": null,
   "metadata": {},
   "outputs": [],
   "source": [
    "# utiliser cette méthode pour mélanger notre mini jeu de cartes :\n",
    "\n",
    "\n"
   ]
  },
  {
   "cell_type": "markdown",
   "metadata": {},
   "source": [
    "### 2.2- ... mais comme vous êtes en forme et que vous n'aimez pas ce qui est trop facile :\n",
    "\n",
    "On décide de coder **par nous mêmes** ce mélange de cartes.\n",
    "\n",
    "Reprendre le paragraphe 2.4.2 sur les types construits (\"Opérations liées au caractère mu(t)able des listes\"). \n",
    "\n",
    "-> laquelle des opérations décrites dans ce paragraphe pourrait servir comme opération de base pour réaliser le mélange d'une liste ?\n"
   ]
  },
  {
   "cell_type": "code",
   "execution_count": null,
   "metadata": {},
   "outputs": [],
   "source": [
    "# dans un premier temps, on vous demande de créer une fonction permutation() telle que décrite ci-dessous :\n",
    "def permutation(liste,i,j):\n",
    "    \"\"\" Cette fonction permet d'inverser deux éléments d'index i et j présents dans 'liste' :\n",
    "        \n",
    "        paramètre liste (type list) : une séquence mutable dans laquelle on veut faire des permutations\n",
    "        paramètre i (type int) : un entier compris entre 0 et len(list)\n",
    "        paramètre j (type int) : un entier compris entre 0 et len(list)\n",
    "        \n",
    "        renvoie  liste (type list) : (la liste modifiée par la permutation)\n",
    "        \n",
    "        exemple :\n",
    "        animaux = ['chien','chat', 'oiseau', 'poisson', 'papillon']\n",
    "        permutation(animaux,1,3) modifie animaux en ['chien','poisson', 'oiseau', 'chat', 'papillon']\n",
    "    \"\"\"\n",
    "    # code de la fonction :\n",
    "    \n",
    "    \n",
    "    \n",
    "# test de la fonction permutation() (tester en modifiant des paramètres):\n",
    "animaux = ['chien','chat', 'oiseau', 'poisson', 'papillon']\n",
    "permutation(animaux,1,3)  \n",
    "animaux\n",
    "\n",
    "# test de la fonction permutation() sur le jeu de cartes :\n"
   ]
  },
  {
   "cell_type": "markdown",
   "metadata": {},
   "source": [
    "Pour mélanger une liste, on peut envisager de répéter de nombreuses fois une opération de permutation entre des éléments **quelconques** de cette liste. "
   ]
  },
  {
   "cell_type": "code",
   "execution_count": null,
   "metadata": {},
   "outputs": [],
   "source": [
    "# importation du module random :\n",
    "import random\n",
    "\n",
    "# Créer la fonction melanger() telle que décrite ci-dessous :\n",
    "def melanger(liste, nbre_fois):\n",
    "    \"\"\" Cette fonction permute de façon aléatoire deux éléments de 'liste'. Cette action est répétée 'nbre_fois'\n",
    "    \n",
    "    param liste (type list) : la liste à mélanger\n",
    "    param nbre_fois (type int) : le nombre de fois que l'on fait des permutations aléatoires dans la liste\n",
    "    \n",
    "    renvoie liste (type list) : (la liste modifiée)\n",
    "    \"\"\"\n",
    "    \n",
    "    # code de la fonction :\n",
    "\n",
    "    \n",
    "    \n",
    "    \n",
    "    \n",
    "    \n",
    "# test de la fonction melanger() sur le jeu de cartes :\n",
    "jeu = ['Sept', 'Huit','Neuf' ,'Dix', 'Valet', 'Dame', 'Roi', 'As']\n",
    "\n",
    "print('jeu = ' , jeu)                # affiche le jeu de cartes non mélangé\n",
    "print('jeu = ', melanger(jeu, 50))   # affiche le jeu de cartes après 50 permutations aléatoires\n",
    "                                     # (tester avec différentes valeurs pour le paramètre nbre_fois,\n",
    "                                     # comme par exemple la valeur 1 ou 2 pour bien voir l'effet de la fonction)\n",
    "\n"
   ]
  },
  {
   "cell_type": "markdown",
   "metadata": {},
   "source": [
    "## 3- Une bataille de cartes\n",
    "\n",
    "### 3.1 - Améliorer la structure de données :\n",
    "\n",
    "On veut faire une bataille entre deux jeux de 8 cartes identiques (mais bien sûr mélangés), nommés jeu1 et jeu2\n",
    "Pour chaque tour il faut comparer les cartes de jeu1 et jeu2 qui sont en vis-à-vis. \n",
    "Cela n'est possible que si l'on a attribué aux cartes une \"force\". \n",
    "\n",
    "Chaque carte sera alors définie par un tuple de deux valeurs : une chaîne de caractères donnant son nom et un entier donnant sa force.\n",
    "\n",
    "Ainsi jeu1 sera défini de la façon suivante :\n",
    "jeu1 =  \\[('Sept', 7), ('Huit', 8), ('Neuf', 9), ('Dix', 10), ('Valet', 11), ('Dame', 12), ('Roi', 13), ('As', 14)]\n",
    "\n",
    "Il est possible bien sûr de remplir \"à la main\" cette structure, mais l'envie soudaine vous prend de la construire \"en compréhension\" :"
   ]
  },
  {
   "cell_type": "code",
   "execution_count": null,
   "metadata": {},
   "outputs": [],
   "source": [
    "jeu = ['Sept', 'Huit','Neuf' ,'Dix', 'Valet', 'Dame', 'Roi', 'As']\n",
    "# créer les nouvelles listes jeu1 et jeu2 en compréhension à partir de la liste jeu :\n",
    "jeu1 = \n",
    "\n",
    "jeu2 = \n",
    "\n",
    "\n",
    "print(jeu1)\n",
    "print(jeu2)"
   ]
  },
  {
   "cell_type": "markdown",
   "metadata": {},
   "source": [
    "### 3.2- Une partie de bataille \n",
    "\n",
    "Règle du jeu : \n",
    "    * on met en vis à vis chacune des cartes de même index des deux jeux : jeu1 et jeu2\n",
    "    * le joueur qui a la carte la plus forte remporte 1 point\n",
    "    * le joueur qui a la carte la plus faible remporte 0\n",
    "    * en cas d'égalité, chaque joueur remporte 1 point\n",
    "    * le score final ainsi que le gagnant sont annoncés.\n",
    "    \n",
    "    Un exemple de présentation d'une bataille :\n",
    "    \n",
    "![title](images/score_bataille.png)"
   ]
  },
  {
   "cell_type": "code",
   "execution_count": null,
   "metadata": {},
   "outputs": [],
   "source": [
    "# programme de bataille entre deux mini jeux de cartes :\n",
    "\n"
   ]
  }
 ],
 "metadata": {
  "kernelspec": {
   "display_name": "Python 3",
   "language": "python",
   "name": "python3"
  },
  "language_info": {
   "codemirror_mode": {
    "name": "ipython",
    "version": 3
   },
   "file_extension": ".py",
   "mimetype": "text/x-python",
   "name": "python",
   "nbconvert_exporter": "python",
   "pygments_lexer": "ipython3",
   "version": "3.7.3"
  }
 },
 "nbformat": 4,
 "nbformat_minor": 2
}
