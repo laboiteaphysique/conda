{
 "cells": [
  {
   "cell_type": "markdown",
   "metadata": {},
   "source": [
    "# Introduction à l'utilisation des notebooks Jupyter\n",
    "\n",
    "Les notebooks Jupyter permettent l'apprentissage en ligne d'un langage de programmation tel que Python et peuvent fournir un bon complément aux séances de cours pour revoir des notions abordées en classe ou anticiper sur des notions nouvelles, et ce, tant sous forme de cours que de petits exercices. \n",
    "\n",
    "Ils permettent aussi l'écriture guidée d'un programme conséquent en décomposant le code par parties testées individuellement.\n",
    "\n",
    "Ceci est un notebook Jupyter : comme on peut le voir, il est constitué de deux types de cellules :\n",
    "\n",
    "* des **cellules contenant du texte** (comme celle-ci) et qui permettent de donner des explications ou des consignes. Il faudra les lire avec attention.\n",
    "\n",
    "* des **cellules de code** comme celle ci-dessous. Sauf exception, nos cellules de code seront toujours écrites en Python3\n",
    "\n",
    "Le code contenu dans une cellule pourra être modifié à volonté. \n",
    "\n",
    "Pour lancer son exécution, on utilisera l'association des touches **CTRL et ENTREE** du clavier.\n",
    "\n",
    "Dans un notebook Jupyter il y a très souvent plusieurs cellules de code. **Il faudra toujours les exécuter dans l'ordre dans lequel elles apparaissent** de façon à suivre correctement la démarche souhaitée par le concepteur.\n",
    "\n",
    "Exercice : Exécuter le code de la cellule suivante (Touches CTRL + ENTREE). \n",
    "\n",
    "Si le code n'a pas été modifié on obtiendra : 3\n",
    "\n",
    "Après ce premier essai, modifier les valeurs des variables a et b, et observer le résultat."
   ]
  },
  {
   "cell_type": "code",
   "execution_count": null,
   "metadata": {},
   "outputs": [],
   "source": [
    "a = 1\n",
    "b = 2\n",
    "print(a + b)"
   ]
  },
  {
   "cell_type": "markdown",
   "metadata": {},
   "source": [
    "Lorsque l'on modifie un code valide existant, il est possible que cela génère une erreur. Observer celui-ci, puis l'exécuter. La ligne provoquant l'erreur est indiquée ; cette erreur est ensuite explicitée :"
   ]
  },
  {
   "cell_type": "code",
   "execution_count": null,
   "metadata": {},
   "outputs": [],
   "source": [
    "a = 1\n",
    "b = 2\n",
    "print(a + c)"
   ]
  },
  {
   "cell_type": "markdown",
   "metadata": {},
   "source": [
    "Voici un code qui pourrait sembler erroné. Pourtant son exécution peut donner un résultat valide :"
   ]
  },
  {
   "cell_type": "code",
   "execution_count": null,
   "metadata": {},
   "outputs": [],
   "source": [
    "a = 1\n",
    "c = 2\n",
    "print(a + b)"
   ]
  },
  {
   "cell_type": "markdown",
   "metadata": {},
   "source": [
    "Explication : comme dans un interpréteur Python classique, **l'interpréteur Python associé au notebook garde en mémoire les valeurs des variables utilisées depuis l'ouverture de cet interpréteur.** Or dans la première cellule de code de ce notebook, nous avons défini une variable b et nous l'avons initialement associée à la valeur 2. Ensuite chacun aura pu éventuellement changer cette valeur, dans le code N°1 et pourquoi pas dans le code N°2. \n",
    "\n",
    "L'appel de la fonction print(a + b) ne provoque donc pas d'erreur car b est connu de l'interpréteur.\n",
    "\n",
    "## Réinitialiser un notebook :\n",
    "\n",
    "Il est possible de **réinitialiser un notebook** sans le quitter en allant dans le menu **\"Noyau\" (ou \"Kernel\" en anglais)** en haut de la page. Plusieurs options sont proposées dont : **\"Redémarrer et effacer les sorties\" (\"Restart en clear output\").** Accepter en cliquant sur le bouton \"Relancer et effacer toutes les sorties\".\n",
    "\n",
    "Expérimentons : aller ensuite directement au Code N°3 ci-dessus sans valider les codes N°1 ou 2. Son exécution va générer l'erreur à laquelle on s'attendait : NameError: name 'b' is not defined\n",
    "\n",
    "Exécuter soit le code N°1 ou le code N°2 et réexécuter le code N°3 : il fonctionne de nouveau\n",
    "\n",
    "Remarquer à gauche de chaque cellule de code l'indication **Entrée[ ]** : un numéro apparaît dedans quand le code est exécuté. Ce numero indique l'ordre dans lequel ces cellules de code ont été exécutées.\n"
   ]
  },
  {
   "cell_type": "markdown",
   "metadata": {},
   "source": [
    "## Quitter un notebook :\n",
    "**Pour quitter proprement le notebook, aller dans le menu \"Fichier\" (\"File\") et cliquer sur \"Fermer et arrêter\" (\"Close and halt\")**"
   ]
  }
 ],
 "metadata": {
  "kernelspec": {
   "display_name": "Python 3",
   "language": "python",
   "name": "python3"
  },
  "language_info": {
   "codemirror_mode": {
    "name": "ipython",
    "version": 3
   },
   "file_extension": ".py",
   "mimetype": "text/x-python",
   "name": "python",
   "nbconvert_exporter": "python",
   "pygments_lexer": "ipython3",
   "version": "3.7.3"
  }
 },
 "nbformat": 4,
 "nbformat_minor": 2
}
