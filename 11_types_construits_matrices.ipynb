{
 "cells": [
  {
   "cell_type": "markdown",
   "metadata": {},
   "source": [
    "# Types construits : les matrices\n",
    "\n",
    "## 1- Définition et implémentation en Python\n",
    "\n",
    "En mathématiques, on définit une matrice m x n ou (m, n) comme étant un tableau constitué de m lignes et n colonnes. Chaque élément de ce tableau est repéré par deux indices i et j comme indiqué ci-dessous (source Wikipédia modifiée) :\n",
    "\n",
    "![title](images/matrice_wiki.png)\n",
    "\n",
    "Le nombre de lignes et de colonnes peut être différent.\n",
    "\n",
    "Lorsqu’il est identique on parle d’une **matrice carrée**, qui est alors de la forme m x m ou (m, m)\n",
    "\n",
    "**En Python, une liste de liste pourra permettre d’implémenter une matrice.**\n",
    "\n",
    "Exemple : la matrice (2,3) ![title](images/matrice1.png)\n",
    "\n",
    "sera représentée en Python par la liste de liste : **m1 = [ [1, 2, 3], [4, 5, 6]]**"
   ]
  },
  {
   "cell_type": "code",
   "execution_count": null,
   "metadata": {},
   "outputs": [],
   "source": [
    "m1 = [[1, 2, 3], [4, 5, 6]]\n",
    "# écrire les lignes de code permettant de connaître :\n",
    "#  - le nombre de lignes que contient la matrice :\n",
    "\n",
    "# - le nombre de colonnes :\n",
    "\n",
    "# Que renvoient les instructions suivantes : matr[0] ; matr[0][2] ;  matr[1][0]  ; matr[1][3] ?\n",
    "\n",
    "\n",
    "# Quel code faut-il écrire pour modifier la valeur 6 de cette matrice en 7 :\n",
    "\n"
   ]
  },
  {
   "cell_type": "markdown",
   "metadata": {},
   "source": [
    "## 2- Affichage d'une matrice :\n",
    "\n",
    "La représentation en Python par une liste de liste : m1 = [ [1, 2, 3], [4, 5, 6]] est visuellement éloignée de l'écriture mathématique d'une matrice. Ecrire une fonction **aff_matrice(mat)** permettant d'afficher à l'écran une matrice comme ci-dessous :\n",
    "![title](images/matrice2.png)"
   ]
  },
  {
   "cell_type": "code",
   "execution_count": null,
   "metadata": {},
   "outputs": [],
   "source": [
    "def aff_matrice(mat):\n",
    "    \"\"\" affiche sous forme matricielle une liste de liste\n",
    "        paramètre mat (type list) : la liste de liste à afficher\n",
    "    \"\"\"\n",
    "    # code de la fonction :\n",
    "   \n",
    "    \n",
    "# tester la fonction avec les deux matrices suivantes :        \n",
    "m1 = [[1, 2, 3], [4, 5, 6]]    # matrice (2,3) (donc constituée de 2 lignes et 3 colonnes)\n",
    "m2 = [[1,2], [3,4], [5,6]]     # matrice (3,2) (donc constituée de 3 lignes et 2 colonnes)\n",
    "\n"
   ]
  },
  {
   "cell_type": "markdown",
   "metadata": {},
   "source": [
    "## 3- Créer une matrice par programmation :\n",
    "\n",
    "On souhaite créer la matrice m1 de deux façons différentes : à l'aide de deux boucles for imbriquées puis 'en compréhension'. Rédiger le code nécessaire dans les deux cellules ci-dessous et tester le résultat :"
   ]
  },
  {
   "cell_type": "code",
   "execution_count": null,
   "metadata": {},
   "outputs": [],
   "source": [
    "m1 = []    # pour faire 'oublier' au notebook la liste m1\n",
    "# création de m1 = [[1, 2, 3], [4, 5, 6]] avec deux boucles for :\n",
    "\n",
    "\n",
    "# test :\n",
    "print(m1)\n",
    "aff_matrice(m1)"
   ]
  },
  {
   "cell_type": "code",
   "execution_count": null,
   "metadata": {},
   "outputs": [],
   "source": [
    "m1 = []    # pour faire 'oublier' au notebook la liste m1\n",
    "# création de m1 = [[1, 2, 3], [4, 5, 6]] en compréhension :\n",
    "\n",
    "\n",
    "\n",
    "# test :\n",
    "print(m1)\n",
    "aff_matrice(m1)"
   ]
  },
  {
   "cell_type": "markdown",
   "metadata": {},
   "source": [
    "## 4- Quelques opérations avec les matrices :\n",
    "\n",
    "### 4.1 Multiplication d’une matrice par un nombre :\n",
    "\n",
    "Soit m une matrice, l’opération k.m renvoie une nouvelle matrice pour laquelle chacun de ses éléments est multiplié par k.\n",
    "\n",
    "Par exemple: l'opération **4.m1** donnera :\n",
    "\n",
    "![title](images/mult_matrice.png)"
   ]
  },
  {
   "cell_type": "code",
   "execution_count": null,
   "metadata": {},
   "outputs": [],
   "source": [
    "def mult_matrice(k, mat):\n",
    "    \"\"\" multiplie chaque élément de la matrice 'mat' par le réel 'k'\n",
    "        paramètre k (type int ou float)\n",
    "        paramètre mat (type list) : la matrice \n",
    "        \n",
    "        renvoie une nouvelle matrice\n",
    "    \"\"\"\n",
    "    # code de la fonction :\n",
    "  \n",
    "\n",
    " # test de la fonction sur la matrice m1 pour créer une matrice m2 = 4.m1 :\n",
    "m1 = [[1, 2, 3], [4, 5, 6]]\n",
    "m2 = mult_matrice(4,m1)\n",
    "aff_matrice(m2)\n",
    "print(m2)\n"
   ]
  },
  {
   "cell_type": "markdown",
   "metadata": {},
   "source": [
    "## 4.2  Somme (ou différence) de deux matrices :\n",
    "\n",
    "La somme ou la différence de deux matrices m1 et m2 renvoie une nouvelle matrice m3. Un élément de m3 est obtenu par la somme (ou la différence) des éléments de m1 et m2 de mêmes indices : \n",
    "\n",
    "![title](images/somme_matrices.png)"
   ]
  },
  {
   "cell_type": "code",
   "execution_count": null,
   "metadata": {},
   "outputs": [],
   "source": [
    "def add_matrices(mat1, mat2):\n",
    "    \"\"\" réalise la somme de deux matrices 'mat1' et 'mat2'\n",
    "        paramètre mat1 (type list) \n",
    "        paramètre mat2 (type list) \n",
    "        \n",
    "        renvoie une nouvelle matrice\n",
    "    \"\"\"\n",
    "    # code de la fonction :\n",
    "    \n",
    "    \n",
    "\n",
    "#test de la fonction sur la matrice m1 pour créer une matrice m3 = m1 + m2 :\n",
    "m1 = [[1, 2, 3], [4, 5, 6]]\n",
    "m2 =[[4, 8, 12], [16, 20, 24]]\n",
    "\n"
   ]
  },
  {
   "cell_type": "markdown",
   "metadata": {},
   "source": [
    "## 4.3- Transposée d’une matrice :\n",
    "La transposée d’une matrice est une nouvelle matrice obtenue par symétrie axiale par rapport à la diagonale de la matrice :\n",
    "\n",
    "![title](images/transposee_matrice.png)\n",
    "\n",
    "Ecrire une fonction **transpose_matrice(mat)** qui réalise cette opération :"
   ]
  },
  {
   "cell_type": "code",
   "execution_count": null,
   "metadata": {},
   "outputs": [],
   "source": [
    "def transpose_matrice(mat):\n",
    "    \"\"\" réalise la transposée de la matrice 'mat' \n",
    "        paramètre mat (type list) : la matrice \n",
    "        \n",
    "        renvoie une nouvelle matrice\n",
    "    \"\"\"\n",
    "    # code de la fonction :\n",
    "\n",
    "\n",
    "#test de la fonction sur la matrice m1 pour créer la matrice m4 qui est la transposée de m1\n",
    "m1 = [[1, 2, 3], [4, 5, 6]]\n"
   ]
  },
  {
   "cell_type": "markdown",
   "metadata": {},
   "source": [
    "## 5- Applications à l’afficheur 5x5 Leds de la carte Micro:Bit\n",
    "\n",
    "On peut représenter mathématiquement l’afficheur de la carte Micro:Bit par une matrice carrée (5,5) pour laquelle chaque élément peut prendre une valeur entière comprise entre 0 et 9. Cette valeur représentant la luminosité de la Led correspondante. Par exemple, allumer les 25 Leds de l'afficheur avec la luminosité maximum peut-être représenté de la façon suivante : \n",
    "\n",
    "![title](images/matrice_led_9.png)\n",
    "\n",
    "\n",
    "On pourra préparer le travail de programmation dans ce notebook (ou dans Thonny) pour faciliter la mise au point. Pour basculer le travail sur la carte Micro:Bit il faudra simplement créer une fonction d'affichage spécifique à cette carte. \n",
    "\n",
    "**Ceci nous montre une fois de plus l'intérêt d'une programmation faisant usage de fonctions élémentaires réutilisables !**\n",
    "\n"
   ]
  },
  {
   "cell_type": "code",
   "execution_count": null,
   "metadata": {},
   "outputs": [],
   "source": [
    "# Créer en compréhension une matrice pour représenter l'afficheur ayant toutes les Leds allumées \n",
    "# avec la valeur de luminosité la plus élevée :\n",
    "ecran_complet = []\n"
   ]
  },
  {
   "cell_type": "markdown",
   "metadata": {},
   "source": [
    "On veut obtenir l'écran suivant :\n",
    "\n",
    "![title](images/triangle_microbit.png)\n",
    "\n"
   ]
  },
  {
   "cell_type": "code",
   "execution_count": null,
   "metadata": {},
   "outputs": [],
   "source": [
    "# Créer en compréhension une matrice appelée 'triangle' pour représenter cette image, les Leds étant allumées \n",
    "# avec la valeur de luminosité la plus élevée :\n",
    "triangle = []"
   ]
  },
  {
   "cell_type": "markdown",
   "metadata": {},
   "source": [
    "## 5.2- Opérations à préparer :\n",
    "\n",
    "On souhaitera réaliser les opérations suivantes sur la carte Micro:Bit.\n",
    "Préparer ici ou dans Thonny ce travail puis basculer vers la carte Micro:Bit :\n",
    "\n",
    "###  5.1 Transformer une image en ‘négatif’ :\n",
    "       \n",
    "Réaliser une image en ‘négatif’ signifie que les zones lumineuses doivent devenir sombres et inversement :\n",
    "    * une valeur 9 sera remplacée par un 0\n",
    "    * une valeur 8 par un 1\n",
    "    etc...\n",
    "    \n",
    "Quelle opération mathématique faut-il réaliser sur la luminosité de chacune des Leds pour faire cette transformation ? \n",
    "\n",
    "### 5.2 Réaliser une transformation :\n",
    "\n",
    "On souhaite réaliser cette transformation par appui sur le bouton B. Un appui sur le bouton A réaffiche l'image initiale :\n",
    "![title](images/transposition.png)\n",
    "\n"
   ]
  }
 ],
 "metadata": {
  "kernelspec": {
   "display_name": "Python 3",
   "language": "python",
   "name": "python3"
  },
  "language_info": {
   "codemirror_mode": {
    "name": "ipython",
    "version": 3
   },
   "file_extension": ".py",
   "mimetype": "text/x-python",
   "name": "python",
   "nbconvert_exporter": "python",
   "pygments_lexer": "ipython3",
   "version": "3.7.3"
  }
 },
 "nbformat": 4,
 "nbformat_minor": 2
}
