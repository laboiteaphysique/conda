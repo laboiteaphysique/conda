{
 "cells": [
  {
   "cell_type": "markdown",
   "metadata": {},
   "source": [
    "# Spécification\n",
    "\n",
    "Au delà des commentaires insérés dans le code pour expliciter une ligne ou un bloc de code, il est indispensable de **documenter les fonctions, les modules, les classes et les méthodes**. Ceci se fait à l’aide de **docstrings**. En classe de première on se limitera au cas des fonctions.\n"
   ]
  },
  {
   "cell_type": "code",
   "execution_count": null,
   "metadata": {},
   "outputs": [],
   "source": [
    "# Exécuter tout d'abord cette cellule pour pouvoir disposer de la fonction d'affichage d'une matrice :\n",
    "def aff_matrice(mat):\n",
    "    \"\"\" fonction qui affiche une matrice 'mat' sur l'écran du PC\n",
    "        \n",
    "        :param mat: la matrice à  afficher\n",
    "        :type mat: list\n",
    "        \n",
    "        :return: None \n",
    "    \"\"\"\n",
    "    for i in range(len(mat)):\n",
    "        for j in range(len(mat[0])):\n",
    "            print(mat[i][j] ,'\\t', end='')\n",
    "        print('')\n",
    "    print('')"
   ]
  },
  {
   "cell_type": "markdown",
   "metadata": {},
   "source": [
    "## 1- Prototypage\n",
    "\n",
    "Une **docstring** est une chaîne de caractères placée *juste après la ligne de définition* de la fonction. Elle  permet en Python de prototyper la fonction (penser à exécuter la cellule suivante) :"
   ]
  },
  {
   "cell_type": "code",
   "execution_count": null,
   "metadata": {},
   "outputs": [],
   "source": [
    "def add_matrices(mat1, mat2):\n",
    "    \"\"\"\n",
    "    réalise la somme de deux matrices 'mat1' et 'mat2'\n",
    "    \n",
    "    :param mat1: une matrice\n",
    "    :type mat1: list \n",
    "    :param mat2: une matrice de mêmes dimensions que mat1\n",
    "    :type mat2: list \n",
    "        \n",
    "    :return: une nouvelle matrice égale à mat1 + mat2\n",
    "    :rtype: list\n",
    "    \"\"\"\n",
    "    \n",
    "    return [[mat1[i][j] + mat2[i][j] for j in range(len(mat1[0])) ] for i in range(len(mat2))]"
   ]
  },
  {
   "cell_type": "markdown",
   "metadata": {},
   "source": [
    "Cette docstring est renvoyée par la fonction help() . Par exemple dans un interpréteur Python :"
   ]
  },
  {
   "cell_type": "code",
   "execution_count": null,
   "metadata": {},
   "outputs": [],
   "source": [
    "help(add_matrices)"
   ]
  },
  {
   "cell_type": "markdown",
   "metadata": {},
   "source": [
    "Elle fournira de précieuses informations au programmeur qui aura à utiliser cette fonction (ce programmeur sera parfois ... soi même quelques semaines de non-utilisation !)\n",
    "\n",
    "Dans l’exemple ci-dessus, on remarque que la docstring occupe plus de lignes que le code de la fonction… Cela montre bien l’importance que revêt la documentation d’une fonction.\n",
    "\n",
    "La docstring est délimitée par une paire de triple guillemets et doit :\n",
    "\n",
    "    • résumer le comportement de la fonction\n",
    "    • documenter le(s) paramètre(s) en spécifiant le type pour chacun d’eux\n",
    "    • documenter la (ou les) valeur(s) renvoyée(s) en spécifiant le type pour chacune d’elles \n",
    "    \n",
    "(Remarque : on alignera l’indentation du texte sur celle des triples guillemets.)\n",
    "\n",
    "## 2. Pré-condition(s) et post-condition(s)\n",
    "\n",
    "### 2.1 Exemple d'appel de fonction correct :\n",
    "\n",
    "Pour que le code de la fonction s’exécute convenablement, il est nécessaire de lui fournir les **arguments** convenables. (*argument = valeur attribuée à un paramètre lors de l’appel de la fonction*)\n",
    "\n",
    "Dans le cas de la fonction add_matrices(mat1, mat2), mat1 ou mat2 sont les **paramètres formels** appelés aussi **paramètres** de la fonction.  Observons le code suivant :"
   ]
  },
  {
   "cell_type": "code",
   "execution_count": null,
   "metadata": {},
   "outputs": [],
   "source": [
    "m1 = [[1, 2, 3], [4, 5, 6]]\n",
    "aff_matrice(m1)\n",
    "m2 =[[4, 8, 12], [16, 20, 24]]\n",
    "aff_matrice(m2)\n",
    "\n",
    "m3 = add_matrices(m1,m2)\n",
    "aff_matrice(m3)"
   ]
  },
  {
   "cell_type": "markdown",
   "metadata": {},
   "source": [
    "En ligne 3 on réalise l’appel de la fonction add_matrices( ). Les **paramètres formels** mat1 et mat2 sont alors remplacés par m1 et m2 que l’on appelle **paramètres effectifs** ou  **arguments**.\n",
    "\n",
    "Ici tout se passe bien : le résultat obtenu est bien celui attendu. Pourquoi ? Car les **préconditions** à l’exécution du code de cette fonction sont intégralement réalisées. Quelles sont-elles ?\n",
    "\n",
    "**Préconditions :**\n",
    "\n",
    "    • m1 et est une matrice (au sens mathématique) donc du point de vue Python une liste de listes. Toutes les sous-listes de m1 ont le même nombre d’éléments\n",
    "    • même chose pour m2\n",
    "    • et m1 et m2 sont de mêmes dimensions  \n",
    "    \n",
    "La **postcondition** (renvoi d’une matrice constituée de l’addition élément à élément des matrices m1 et m2 ) est alors réalisée.\n",
    "*La postcondition est une « promesse » de ce que l’on doit obtenir, si les préconditions requises sont remplies **et** si le code de la fonction est correct.*\n"
   ]
  },
  {
   "cell_type": "markdown",
   "metadata": {},
   "source": [
    "### 2.2 Exemples d'appels de fonction incorrects :\n",
    "\n",
    "On va envisager différents cas d'appels de fonctions dans lesquels une précondition n'est pas remplie.\n",
    "\n",
    "#### Cas où m1 et m2 n'ont pas les mêmes dimensions :\n"
   ]
  },
  {
   "cell_type": "code",
   "execution_count": null,
   "metadata": {},
   "outputs": [],
   "source": [
    "# m1 a plus de colonnes que m2 :\n",
    "m1 = [[1, 2, 3, 4], [5, 6, 7, 8]]\n",
    "aff_matrice(m1)\n",
    "m2 =[[4, 8, 12], [16, 20, 24]]\n",
    "aff_matrice(m2)\n",
    "m3 = add_matrices(m1,m2)\n",
    "\n",
    "aff_matrice(m3)"
   ]
  },
  {
   "cell_type": "code",
   "execution_count": null,
   "metadata": {},
   "outputs": [],
   "source": [
    "# c'est maintenant m2 qui a plus de colonnes que m1 :\n",
    "m1 =[[4, 8, 12], [16, 20, 24]]\n",
    "aff_matrice(m1)\n",
    "m2 = [[1, 2, 3, 4], [5, 6, 7, 8]]\n",
    "aff_matrice(m2)\n",
    "\n",
    "m3 = add_matrices(m1,m2)\n",
    "aff_matrice(m3)"
   ]
  },
  {
   "cell_type": "markdown",
   "metadata": {},
   "source": [
    "Expliquer pourquoi **le résultat est différent selon que ce soit m1 ou m2 qui a le plus de colonnes** alors que l'appel de la fonction add_matrices(m1, m2) renvoie la même matrice que add_matrices(m2, m1) lorsque les préconditions sont remplies. (L'addition de deux matrices est commutative)\n"
   ]
  },
  {
   "cell_type": "code",
   "execution_count": null,
   "metadata": {},
   "outputs": [],
   "source": [
    "# m1 a plus de lignes que m2 :\n",
    "m1 = [[1, 2, 3], [4, 5, 6], [7, 8, 9]]\n",
    "aff_matrice(m1)\n",
    "m2 =[[4, 8, 12], [16, 20, 24]]\n",
    "aff_matrice(m2)\n",
    "\n",
    "m3 = add_matrices(m1,m2)\n",
    "aff_matrice(m3)"
   ]
  },
  {
   "cell_type": "code",
   "execution_count": null,
   "metadata": {},
   "outputs": [],
   "source": [
    "# m1 a moins de lignes  :\n",
    "m1 = [[1, 2, 3], [4, 5, 6]]\n",
    "aff_matrice(m1)\n",
    "m2 =[[4, 8, 12], [16, 20, 24], [7, 8, 9]]\n",
    "aff_matrice(m2)\n",
    "m3 = add_matrices(m1,m2)\n",
    "\n",
    "\n",
    "aff_matrice(m3)"
   ]
  },
  {
   "cell_type": "markdown",
   "metadata": {},
   "source": [
    "**Cas où les éléments constituants les sous-listes de m1 et/ou de m2 ne sont pas des nombres :** "
   ]
  },
  {
   "cell_type": "code",
   "execution_count": null,
   "metadata": {},
   "outputs": [],
   "source": [
    "m1 = [['un ', 'beau', 'pas '], [4, 5, 6]]\n",
    "aff_matrice(m1)\n",
    "m2 =[[4, 8, 12], [16, 20, 24]]\n",
    "aff_matrice(m2)\n",
    "m3 = add_matrices(m1,m2)\n",
    "\n",
    "aff_matrice(m3)"
   ]
  },
  {
   "cell_type": "code",
   "execution_count": null,
   "metadata": {},
   "outputs": [],
   "source": [
    "m1 = [['un ', 'beau', 'pas '], [4, 5, 6]]\n",
    "aff_matrice(m1)\n",
    "m2 =[['peu', 'coup', 'du tout'], [16, 20, 24]]\n",
    "aff_matrice(m2)\n",
    "m3 = add_matrices(m1,m2)\n",
    "\n",
    "aff_matrice(m3)"
   ]
  },
  {
   "cell_type": "markdown",
   "metadata": {},
   "source": [
    "## 3- Tester et protéger le code\n",
    "\n",
    "On se propose de résoudre le problème des matrices qui ne seraient pas de même dimension lors de l'utilisation de la fonction add_matrices(mat1, mat2).\n",
    "\n",
    "Différentes façons s'offrent à nous pour y arriver.\n",
    "\n",
    "### 3.1- Avec l'instruction conditionnelle if :\n",
    "\n",
    "Compléter le code de la fonction suivante pour vérifier que mat1 et mat2 ont bien la même dimension. La fonction renvoie bien alors la somme des éléments des deux matrices ; sinon la fonction renvoie 'None'.\n",
    "\n",
    "Tester la fonction avec :\n",
    "    * deux matrices de même dimension\n",
    "    * deux matrices de dimensions différentes. Un nouveau problème devrait apparaître. D'où provient-il ; comment le résoudre ?"
   ]
  },
  {
   "cell_type": "code",
   "execution_count": null,
   "metadata": {},
   "outputs": [],
   "source": [
    "def add_matrices_V2(mat1, mat2):\n",
    "    \"\"\"\n",
    "    réalise la somme de deux matrices 'mat1' et 'mat2'\n",
    "    \n",
    "    :param mat1: une matrice\n",
    "    :type mat1: list \n",
    "    :param mat2: une matrice de mêmes dimensions que mat1\n",
    "    :type mat2: list \n",
    "        \n",
    "    :return: une nouvelle matrice égale à mat1 + mat2 ou None en cas d'erreur\n",
    "    :rtype: list\n",
    "    \"\"\"\n",
    "    if ???\n",
    "        return ???\n",
    "    else:\n",
    "        return None \n",
    "    \n",
    "def aff_matrice_V2(mat):\n",
    "    \"\"\" fonction qui affiche une matrice 'mat' sur l'écran du PC\n",
    "        \n",
    "        :param mat: la matrice à  afficher\n",
    "        :type mat: list\n",
    "        \n",
    "        :return: None \n",
    "    \"\"\"\n",
    "   ???"
   ]
  },
  {
   "cell_type": "code",
   "execution_count": null,
   "metadata": {},
   "outputs": [],
   "source": [
    "m1 = [[1, 2, 3], [4, 5, 6]]\n",
    "aff_matrice_V2(m1)\n",
    "m2 =[[4, 8, 12], [16, 20, 24]]\n",
    "aff_matrice_V2(m2)\n",
    "\n",
    "m3 = add_matrices_V2(m1,m2)\n",
    "aff_matrice_V2(m3)"
   ]
  },
  {
   "cell_type": "code",
   "execution_count": null,
   "metadata": {},
   "outputs": [],
   "source": [
    "# m1 a plus de colonnes que m2 :\n",
    "m1 = [[1, 2, 3, 4], [5, 6, 7, 8]]\n",
    "aff_matrice_V2(m1)\n",
    "m2 =[[4, 8, 12], [16, 20, 24]]\n",
    "aff_matrice_V2(m2)\n",
    "m3 = add_matrices_V2(m1,m2)\n",
    "\n",
    "aff_matrice_V2(m3)"
   ]
  },
  {
   "cell_type": "markdown",
   "metadata": {},
   "source": [
    "### 3.2 Avec l'instruction 'assert'\n",
    "\n",
    "Vocabulaire : une **assertion** est une proposition que l'on considère comme **vraie**.\n",
    "\n",
    "**assert** est une instruction qui fait partie des **mots clé (keywords)**, on dit aussi **'mots réservés'**, du langage Python. \n",
    "Beaucoup de ces mots clé nous sont déjà connus :\n",
    "\n",
    "![title](images/mots_cle.png)\n",
    "\n",
    "Syntaxe : assert *expression*\n",
    "\n",
    "    * si l'évaluation de <expression> est Vraie alors le programme continue\n",
    "    * si l'évaluation de <expression> renvoie None, False, 0 ou [] alors une exception ('AssertionError') est levée \n",
    "    et le programme s'arrête. \n",
    "\n",
    "Dans le programme ci-dessous tester tour à tour les expressions suivantes :\n",
    "    * 1 + 2 == 3\n",
    "    * 1 + 2 != 3\n",
    "    * not(True) == False\n",
    "    * not(True) == True\n",
    "    * not(False) != False\n",
    "    "
   ]
  },
  {
   "cell_type": "code",
   "execution_count": null,
   "metadata": {},
   "outputs": [],
   "source": [
    "print('test')\n",
    "assert               # placer après assert l'expression à tester\n",
    "print('tout va bien !')"
   ]
  },
  {
   "cell_type": "markdown",
   "metadata": {},
   "source": [
    "#### ASSERTION SUR UNE PRECONDITION :\n",
    "\n",
    "Reprenons la fonction add_matrices(mat1, mat2) et utilisons assert pour vérifier que les deux matrices ont bien les mêmes dimensions (**assert est utilisé ici pour vérifier une précondition de la fonction add_matrice()**):"
   ]
  },
  {
   "cell_type": "code",
   "execution_count": null,
   "metadata": {},
   "outputs": [],
   "source": [
    "# penser à exécuter cette cellule avant de passer à la suite \n",
    "\n",
    "def add_matrices(mat1, mat2):\n",
    "    \"\"\"\n",
    "    réalise la somme de deux matrices 'mat1' et 'mat2'\n",
    "    \n",
    "    :param mat1: une matrice\n",
    "    :type mat1: list \n",
    "    :param mat2: une matrice de mêmes dimensions que mat1\n",
    "    :type mat2: list \n",
    "        \n",
    "    :return: une nouvelle matrice égale à mat1 + mat2\n",
    "    :rtype: list\n",
    "    \"\"\"\n",
    "    assert len(mat1) == len(mat2) and len(mat1[0]) == len(mat2[0])\n",
    "    return [[mat1[i][j] + mat2[i][j] for j in range(len(mat1[0])) ] for i in range(len(mat2))]\n",
    "\n"
   ]
  },
  {
   "cell_type": "markdown",
   "metadata": {},
   "source": [
    "Utilisons maintenant cette fonction modiflée avec deux matrices de mêmes dimensions puis deux matrices de dimensions différentes :"
   ]
  },
  {
   "cell_type": "code",
   "execution_count": null,
   "metadata": {},
   "outputs": [],
   "source": [
    "# ce code doit réussir :\n",
    "m1 = [[1, 2, 3], [4, 5, 6]]\n",
    "aff_matrice(m1)\n",
    "m2 =[[4, 8, 12], [16, 20, 24]]\n",
    "aff_matrice(m2)\n",
    "\n",
    "m3 = add_matrices(m1,m2)\n",
    "aff_matrice(m3)"
   ]
  },
  {
   "cell_type": "code",
   "execution_count": null,
   "metadata": {},
   "outputs": [],
   "source": [
    "# ce code doit échouer :\n",
    "# m1 a plus de colonnes que m2 :\n",
    "m1 = [[1, 2, 3, 4], [5, 6, 7, 8]]\n",
    "aff_matrice(m1)\n",
    "m2 =[[4, 8, 12], [16, 20, 24]]\n",
    "aff_matrice(m2)\n",
    "m3 = add_matrices(m1,m2)\n",
    "\n",
    "aff_matrice(m3)"
   ]
  },
  {
   "cell_type": "markdown",
   "metadata": {},
   "source": [
    "#### ASSERTION SUR UNE POSTCONDITION :\n",
    "\n",
    "Il s’agit ici de **vérifier que la fonction réalise bien ce pour quoi elle a été conçue**. On suppose bien évidemment que les *préconditions soient parfaitement remplies avant de passer à ce type de tests*.\n",
    "\n",
    "L'assertion est cette fois placée en dehors de la fonction.\n",
    "\n",
    "Dans le programme suivant la fonction est correcte et le test doit passer.\n",
    "\n",
    "Après l'avoir vérifié, modifier le return de la fonction en remplaçant par exemple **mat1[i][j] par mat[j][i]** et ré-exécuter la cellule."
   ]
  },
  {
   "cell_type": "code",
   "execution_count": null,
   "metadata": {},
   "outputs": [],
   "source": [
    "def add_matrices(mat1, mat2):\n",
    "    \"\"\"\n",
    "    réalise la somme de deux matrices 'mat1' et 'mat2'\n",
    "    \n",
    "    :param mat1: une matrice\n",
    "    :type mat1: list \n",
    "    :param mat2: une matrice de mêmes dimensions que mat1\n",
    "    :type mat2: list \n",
    "        \n",
    "    :return: une nouvelle matrice égale à mat1 + mat2\n",
    "    :rtype: list\n",
    "    \"\"\"\n",
    "    assert len(mat1) == len(mat2) and len(mat1[0]) == len(mat2[0])\n",
    "    return [[mat1[i][j] + mat2[i][j] for j in range(len(mat1[0])) ] for i in range(len(mat2))]\n",
    "\n",
    "# test de la fonction :\n",
    "m1 = [[1, 2, 3], [4, 5, 6]]\n",
    "aff_matrice(m1)\n",
    "m2 =[[4, 8, 12], [16, 20, 24]]\n",
    "aff_matrice(m2)\n",
    "\n",
    "assert add_matrices(m1,m2) ==  [[5, 10, 15], [20, 25, 30]]"
   ]
  },
  {
   "cell_type": "markdown",
   "metadata": {},
   "source": [
    "### 3.3 Application :\n",
    "\n",
    "Reprendre la fonction d'affichage de matrice pour la carte Micro:Bit et inclure un test permettant de vérifier la précondition : 'la matrice passée en argument est bien de type 5x5' "
   ]
  }
 ],
 "metadata": {
  "kernelspec": {
   "display_name": "Python 3",
   "language": "python",
   "name": "python3"
  },
  "language_info": {
   "codemirror_mode": {
    "name": "ipython",
    "version": 3
   },
   "file_extension": ".py",
   "mimetype": "text/x-python",
   "name": "python",
   "nbconvert_exporter": "python",
   "pygments_lexer": "ipython3",
   "version": "3.7.3"
  }
 },
 "nbformat": 4,
 "nbformat_minor": 2
}
