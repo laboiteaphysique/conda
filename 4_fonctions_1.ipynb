{
 "cells": [
  {
   "cell_type": "markdown",
   "metadata": {},
   "source": [
    "# Travailler avec les fonctions (1) : définir et appeler une fonction\n",
    "\n",
    "On a appris avec la carte Micro:Bit comment définir des fonctions en Python. \n",
    "Il s'agissait de fonctions simples, avec ou sans paramètre(s), qui avaient simplement comme utilité de remplacer quelques lignes de code. \n",
    "Dans d'autres langages elles auraient été appelées \"procédures\".\n",
    "\n",
    "### 1- Appeler une fonction qui renvoie un résultat :\n",
    "\n",
    "On peut donner un rôle beaucoup plus puissant à une fonction en lui demandant de \"renvoyer\" au programme qui l'a appelée le résultat de son travail.\n",
    "\n",
    "On connait déjà des fonctions qui ont un tel comportement et on les a utilisées sans souligner cette propriété.\n",
    "\n",
    "Prenons l'exemple de la fonction bin(nbre_entier) qui à l'issue de son exécution renvoie la conversion en binaire du paramètre nbre_entier. \n",
    "\n",
    "Essayer le code ci-dessous :"
   ]
  },
  {
   "cell_type": "code",
   "execution_count": null,
   "metadata": {},
   "outputs": [],
   "source": [
    "print('La conversion en binaire du nombre décimal 5 donne :' , bin(5))"
   ]
  },
  {
   "cell_type": "markdown",
   "metadata": {},
   "source": [
    "Lors de l'évaluation de la fonction print(), l'interpréteur va évaluer la fonction bin(5).\n",
    "\n",
    "bin(5) va renvoyer la chaine de caractères '0b101' à la fonction print qui l'a appelée.\n",
    "\n",
    "La fonction print() peut alors concaténer la chaîne 'La conversion en binaire du nombre décimal 5 donne :' à la chaîne de caractère '0b101' renvoyée par la fonction bin()\n",
    "\n",
    "### 2- Créer une fonction qui renvoie un résultat :\n",
    "\n",
    "Une fonction qui renvoie un résultat possède dans sa **définition** le mot clé **return**. \n",
    "\n",
    "On souhaite calculer le volume d'un cylindre. On pourrait donc appliquer directement la formule :\n",
    "\n",
    "![title](images/cylindre.png)\n",
    "\n",
    "Or comme pour toute forme simple, le volume du cylindre se calcule en réalisant le produit de la surface de base par la hauteur. Et ici la base est un disque, une surface courante que l'on peut avoir à calculer dans de multiples occasions.\n",
    "Il est alors souhaitable de **décomposer** le calcul précédent en **utilisant une fonction** (réutilisable par ailleurs) qui calculerait la surface du disque. \n",
    "\n",
    "Cette fonction devra nous **renvoyer** la valeur de la surface du disque. \n",
    "\n",
    "La valeur renvoyée pourra alors alimenter une deuxième fonction capable, elle, de calculer le volume d'une forme simple :\n"
   ]
  },
  {
   "cell_type": "code",
   "execution_count": null,
   "metadata": {},
   "outputs": [],
   "source": [
    "from math import *      # on importe le module de fonctions 'math' pour disposer de pi\n",
    "\n",
    "def surface_disque(rayon):\n",
    "    # cette fonction calcule et renvoie la surface d'un disque\n",
    "    # paramètre à fournir : le rayon du disque\n",
    "    return(pi*rayon**2)\n",
    "\n",
    "def volume(aire_base,h):\n",
    "    # cette fonction calcule et renvoie le volume d'une forme simple\n",
    "    # par le produit de la surface de la base par la hauteur\n",
    "    # paramètre à fournir : \n",
    "    #    - aire_base : la surface de la base\n",
    "    #    - h : la hauteur\n",
    "    return(aire_base*h)\n",
    "\n",
    "# remarque : on n'a pas encore vu l'usage des nombres réels\n",
    "# donc on entrera des valeurs entières pour le diamètre et la hauteur \n",
    "\n",
    "D = int(input('Entrer en cm le diamètre du cylindre : '))\n",
    "H = int(input('Entrer en cm la hauteur du cylindre : '))\n",
    "\n",
    "# Remarque : le volume calculé va être affiché avec une précision\n",
    "# excessive qui ferait bondir un professeur de physique...\n",
    "# on apprendra à régler ce genre de problème plus tard :\n",
    "\n",
    "print( 'Ce cylindre a un volume de ', volume(surface_disque(D/2),H), 'cm3')"
   ]
  },
  {
   "cell_type": "markdown",
   "metadata": {},
   "source": [
    "### Il est extrêmement important de bien comprendre tout le fonctionnement de ce script Python : c'est fondamental pour la suite du cours ! \n",
    "\n",
    "### ... il faut donc passer du temps à le lire, le décortiquer et l'analyser dans les moindres détails.\n",
    "\n"
   ]
  },
  {
   "cell_type": "markdown",
   "metadata": {},
   "source": [
    "## 3- Applications :\n",
    "\n",
    "1- S'appuyer sur ce script pour écrire un programme qui calcule à l'aide de deux fonctions le volume d'un parallélépipède rectangle :\n",
    "\n",
    "![title](images/boite.png)\n"
   ]
  },
  {
   "cell_type": "code",
   "execution_count": null,
   "metadata": {},
   "outputs": [],
   "source": [
    "# Calcul du volume d'un parallélépipède rectangle :\n"
   ]
  }
 ],
 "metadata": {
  "kernelspec": {
   "display_name": "Python 3",
   "language": "python",
   "name": "python3"
  },
  "language_info": {
   "codemirror_mode": {
    "name": "ipython",
    "version": 3
   },
   "file_extension": ".py",
   "mimetype": "text/x-python",
   "name": "python",
   "nbconvert_exporter": "python",
   "pygments_lexer": "ipython3",
   "version": "3.7.3"
  }
 },
 "nbformat": 4,
 "nbformat_minor": 2
}
