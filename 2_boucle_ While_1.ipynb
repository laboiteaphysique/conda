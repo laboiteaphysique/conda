{
 "cells": [
  {
   "cell_type": "markdown",
   "metadata": {},
   "source": [
    "# La boucle conditionnelle : while( ) :\n",
    "\n",
    "\n"
   ]
  },
  {
   "cell_type": "markdown",
   "metadata": {},
   "source": [
    "### 1- Du graphisme à l'ancienne...\n",
    "\n",
    "Lorsque les écrans des ordinateurs n'affichaient que du texte, il fallait ruser avec l'affichage de différents caractères pour essayer de représenter des images...\n",
    "\n",
    "            Oh le beau sapin !!!\n",
    "\n",
    "                     #\n",
    "                    ###\n",
    "                   #####\n",
    "                  #######\n",
    "                 #########\n",
    "                ###########\n",
    "               #############\n",
    "              ###############\n",
    "             #################\n",
    "                     #\n",
    "                     #\n",
    "                                 \n",
    "\n",
    "Essayer le code suivant et le mofdifier à volonté :"
   ]
  },
  {
   "cell_type": "code",
   "execution_count": null,
   "metadata": {},
   "outputs": [],
   "source": [
    "i = 4\n",
    "print(i * '#')  # on affiche i fois le caractère dièse"
   ]
  },
  {
   "cell_type": "markdown",
   "metadata": {},
   "source": [
    "\n",
    "On souhaite obtenir à l'écran la sortie suivante :\n",
    "\n",
    "                  #\n",
    "                  ##\n",
    "                  ###\n",
    "                  ####\n",
    "\n",
    "Ci-dessous voici une façon de procéder (la tester) :"
   ]
  },
  {
   "cell_type": "code",
   "execution_count": null,
   "metadata": {},
   "outputs": [],
   "source": [
    "# code pas beau N° 1 :\n",
    "print('#')\n",
    "print('##')\n",
    "print('###')\n",
    "print('####')"
   ]
  },
  {
   "cell_type": "markdown",
   "metadata": {},
   "source": [
    "En voici une autre à tester aussi :"
   ]
  },
  {
   "cell_type": "code",
   "execution_count": null,
   "metadata": {},
   "outputs": [],
   "source": [
    "# Code pas beau N°2\n",
    "print(1*'#')\n",
    "print(2*'#')\n",
    "print(3*'#')\n",
    "print(4*'#')"
   ]
  },
  {
   "cell_type": "markdown",
   "metadata": {},
   "source": [
    "Les deux codes proposés font le travail demandé, mais ce n'est pas une façon convenable de faire : lourdeur mais aussi problème de réutilisation du code.\n",
    "\n",
    "Par exemple, si l'on veut maintenant demander à l'utilisateur la hauteur (en nombre de lignes) du motif à réaliser, ces deux codes ne sont pas réutilisables.\n",
    "\n",
    "Ce deuxième code (pas beau) nous met cependant sur une voie intéressante, car de ligne en ligne, on voit progresser par pas de un le nombre de motifs ':' à afficher.\n",
    "\n",
    "On voit alors qu'un code similaire à celui vu en introduction :\n",
    "\n",
    "            i = 1\n",
    "            print(i * '#')\n",
    "\n",
    "pourrait convenir si on arrivait à répéter la ligne d'instruction **print(i * '#')** en incrémentant à chaque répétition la valeur de i.\n",
    "\n",
    "Ce petit problème peut se résoudre avec une structure fondamentale en programmation : **la boucle.**\n",
    "\n",
    "Ci- dessous une vidéo sur les boucles,réalisée par \"Le Prof\" et disponible sur Youtube. Pour la démarrer, exécuter la cellule ci-dessous (CTRL + Entrée) :"
   ]
  },
  {
   "cell_type": "code",
   "execution_count": null,
   "metadata": {
    "scrolled": true
   },
   "outputs": [],
   "source": [
    "%%HTML\n",
    "<iframe width=\"600\" height=\"300\" src=\"https://laboiteaphysique.fr/notebooks/Python - la boucle While.mp4\" frameborder=\"0\"  allowfullscreen></iframe>"
   ]
  },
  {
   "cell_type": "markdown",
   "metadata": {},
   "source": [
    "Remarque : dans cette vidéo, l'auteur utilise une autre écriture pour incrémenter la variable i :\n",
    "\n",
    "                                        i += 1\n",
    "                                      \n",
    "                                  qui est équivalente à :\n",
    "                                      \n",
    "                                      i = i + 1\n",
    "\n",
    "Après avoir bien visionné cette vidéo, utiliser une **boucle while** dans la cellule de code ci-dessous, pour reproduire le motif demandé :\n",
    "\n",
    "                  #\n",
    "                  ##\n",
    "                  ###\n",
    "                  ####\n"
   ]
  },
  {
   "cell_type": "code",
   "execution_count": null,
   "metadata": {},
   "outputs": [],
   "source": [
    "# Code N°3... bien plus joli !\n"
   ]
  },
  {
   "cell_type": "markdown",
   "metadata": {},
   "source": [
    "**EXERCICE 1 :**\n",
    "\n",
    "Modifier le code N° 3 pour qu'il demande à l'utilisateur le nombre de lignes à afficher."
   ]
  },
  {
   "cell_type": "markdown",
   "metadata": {},
   "source": [
    "**EXERCICE 2 :**\n",
    "\n",
    "Ecrire ci-dessous, **en 6 lignes de code maximum**, un programme qui reproduit **exactement** le sapin dessiné en introduction...\n"
   ]
  },
  {
   "cell_type": "code",
   "execution_count": null,
   "metadata": {},
   "outputs": [],
   "source": [
    "# Le beau sapin...\n"
   ]
  },
  {
   "cell_type": "markdown",
   "metadata": {},
   "source": [
    "**EXERCICE 3:**\n",
    "\n",
    "Au cours de cette vidéo est évoquée la possibilité de faire écrire une table de multiplication \"à la demande\". Ecrire à l'aide de l'éditeur Thonny un programme répondant à ce cahier des charges."
   ]
  }
 ],
 "metadata": {
  "kernelspec": {
   "display_name": "Python 3",
   "language": "python",
   "name": "python3"
  },
  "language_info": {
   "codemirror_mode": {
    "name": "ipython",
    "version": 3
   },
   "file_extension": ".py",
   "mimetype": "text/x-python",
   "name": "python",
   "nbconvert_exporter": "python",
   "pygments_lexer": "ipython3",
   "version": "3.7.3"
  }
 },
 "nbformat": 4,
 "nbformat_minor": 2
}
