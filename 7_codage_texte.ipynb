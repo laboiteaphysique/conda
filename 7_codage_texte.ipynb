{
 "cells": [
  {
   "cell_type": "markdown",
   "metadata": {},
   "source": [
    "# Types et valeurs de base : représentation d'un texte en machine\n",
    "\n",
    "## 1- La table ASCII\n",
    "\n",
    "![title](images/ascii.png)\n",
    "\n",
    "(source : wikipedia)\n",
    "\n",
    "## 2- Python et le codage des caractères\n",
    "\n",
    "Python possède deux fonctions natives concernant le codage d'un caractère chr() et ord():"
   ]
  },
  {
   "cell_type": "markdown",
   "metadata": {},
   "source": [
    "### 2.1- La fonction chr( ) :\n",
    "\n",
    "**chr(n) : renvoie le caractère (= character en anglais) correspondant au code ASCII de valeur n (n étant un entier codé sur un octet)**\n",
    "\n",
    "Essayer la cellule suivante. Quel code hexadécimal faudrait-il mettre à la place du nombre 65 pour obtenir la même lettre ? Le tester"
   ]
  },
  {
   "cell_type": "code",
   "execution_count": null,
   "metadata": {},
   "outputs": [],
   "source": [
    "print(chr(65))"
   ]
  },
  {
   "cell_type": "markdown",
   "metadata": {},
   "source": [
    "Ecrire un programme qui, utilisant la fonction chr(), affiche toutes les lettres majuscules de l'alphabet de A à Z :"
   ]
  },
  {
   "cell_type": "code",
   "execution_count": null,
   "metadata": {},
   "outputs": [],
   "source": [
    "# Entrer ici le code :\n"
   ]
  },
  {
   "cell_type": "markdown",
   "metadata": {},
   "source": [
    "Ecrire un programme qui, utilisant la fonction chr(), affiche toutes les lettres majuscules de l'alphabet de Z à A :"
   ]
  },
  {
   "cell_type": "code",
   "execution_count": null,
   "metadata": {},
   "outputs": [],
   "source": [
    "# Entrer ici le code :\n"
   ]
  },
  {
   "cell_type": "markdown",
   "metadata": {},
   "source": [
    "Ecrire un programme qui, utilisant la fonction chr(), affiche une lettre majuscule sur deux :"
   ]
  },
  {
   "cell_type": "code",
   "execution_count": null,
   "metadata": {},
   "outputs": [],
   "source": [
    "# Entrer ici le code :\n"
   ]
  },
  {
   "cell_type": "markdown",
   "metadata": {},
   "source": [
    "### 2.2- La fonction ord( ) :\n",
    "\n",
    "**ord(c) : renvoie l’entier servant de code ASCII pour le caractère c passé en paramètre**\n",
    "\n",
    "Essayer la cellule suivante, puis comparer le résultat avec ce que donne la table ASCII. \n",
    "Comment modifier cette instruction pour récupérer le code en hexadécimal ?"
   ]
  },
  {
   "cell_type": "code",
   "execution_count": null,
   "metadata": {},
   "outputs": [],
   "source": [
    "print(ord('Z'))"
   ]
  },
  {
   "cell_type": "markdown",
   "metadata": {},
   "source": [
    "### 2.3- Exercice d'application :\n",
    "\n",
    "1- Comparer les codes correspondants aux lettres majuscules et aux lettres minuscules. \n",
    "2.1- Ecrire une fonction maj_2_min( ) prenant en paramètre une lettre majuscule et renvoyant la lettre minuscule correspondante :"
   ]
  },
  {
   "cell_type": "code",
   "execution_count": null,
   "metadata": {},
   "outputs": [],
   "source": [
    "# définition de la fonction maj_2_min():\n",
    "\n",
    "\n",
    "# utilisation de la fonction : on laissera l'utilisateur entrer la lettre majuscule de son choix :\n"
   ]
  },
  {
   "cell_type": "markdown",
   "metadata": {},
   "source": [
    "2.2- Améliorer ce programme pour vérifier que l'utilisateur a bien entré une majuscule. L'avertir en cas d'erreur :"
   ]
  },
  {
   "cell_type": "code",
   "execution_count": null,
   "metadata": {},
   "outputs": [],
   "source": [
    "# définition de la fonction maj_2_min():\n",
    "\n",
    "\n",
    "# utilisation de la fonction : on laissera l'utilisateur entrer la lettre majuscule de son choix, \n",
    "# mais on en vérifiera la validité :"
   ]
  },
  {
   "cell_type": "markdown",
   "metadata": {},
   "source": [
    "3-  Ecrire la fonction inverse min_2_maj() :"
   ]
  },
  {
   "cell_type": "code",
   "execution_count": null,
   "metadata": {},
   "outputs": [],
   "source": [
    "# définition de la fonction min_2_maj():\n",
    "\n",
    "\n",
    "# utilisation de la fonction : on laissera l'utilisateur entrer la lettre minuscule de son choix ,\n",
    "# mais on en vérifiera la validité:\n"
   ]
  },
  {
   "cell_type": "markdown",
   "metadata": {},
   "source": [
    "Que ferait un programme dans lequel la fonction min_2_maj() appelerait la fonction maj_to_min() ?\n",
    "Le tester :"
   ]
  },
  {
   "cell_type": "code",
   "execution_count": null,
   "metadata": {},
   "outputs": [],
   "source": [
    "# \n"
   ]
  }
 ],
 "metadata": {
  "kernelspec": {
   "display_name": "Python 3",
   "language": "python",
   "name": "python3"
  },
  "language_info": {
   "codemirror_mode": {
    "name": "ipython",
    "version": 3
   },
   "file_extension": ".py",
   "mimetype": "text/x-python",
   "name": "python",
   "nbconvert_exporter": "python",
   "pygments_lexer": "ipython3",
   "version": "3.7.3"
  }
 },
 "nbformat": 4,
 "nbformat_minor": 2
}
