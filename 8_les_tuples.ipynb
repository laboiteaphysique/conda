{
 "cells": [
  {
   "cell_type": "markdown",
   "metadata": {},
   "source": [
    "# Types construits : les tuples\n",
    "\n",
    "Un p-uplet (comprendre un couple, un triplet, un quadruplet etc.), est une suite ordonnée d’éléments qui peuvent être chacun de n’importe quel type. En Python on parle de tuple.\n",
    "\n",
    "## 1- Création d'un tuple :\n",
    "On peut créer un tuple en écrivant  n éléments séparés par des virgules. Les parenthèses ne sont pas indispensables, mais il est préférable de les mettre :"
   ]
  },
  {
   "cell_type": "code",
   "execution_count": null,
   "metadata": {},
   "outputs": [],
   "source": [
    "hdf =  ('Aisne', 'Nord', 'Oise','Pas de Calais', 'Somme')\n",
    "print(type(hdf))\n",
    "print(hdf)"
   ]
  },
  {
   "cell_type": "markdown",
   "metadata": {},
   "source": [
    "## 2- Opérations sur les tuples\n",
    "\n",
    "Un tuple étant une séquence, on peut utiliser les fonctions et opérateurs communs à tous les types de séquences (Cf 6.5.2 Propriétés communes aux séquences dans le livret « Types et valeurs de base »\n",
    "Exemples :"
   ]
  },
  {
   "cell_type": "code",
   "execution_count": null,
   "metadata": {},
   "outputs": [],
   "source": [
    "# Combien d’éléments dans le tuple hdf :\n",
    "\n",
    "\n",
    "# Quel est l’élément du tuple hdf ayant pour valeur d’index 2 ?   \n",
    "\n",
    "\n",
    "# L’élément ‘Nord’ est-il dans le tuple hdf ?\n",
    "\n",
    "\n",
    "# L’élément ‘NORD’ est-il dans le tuple hdf ?\n",
    "\n",
    "\n"
   ]
  },
  {
   "cell_type": "markdown",
   "metadata": {},
   "source": [
    "#### Parcours d’un tuple avec les instructions for … in :\n",
    "On cherche à obtenir l'affichage suivant :\n",
    "\n",
    "Les départements de la région HdF sont :\n",
    "- Aisne\n",
    "- Nord\n",
    "- Oise\n",
    "- Pas de Calais\n",
    "- Somme\n",
    "\n",
    "Rédiger ci-dessous le code nécessaire :"
   ]
  },
  {
   "cell_type": "code",
   "execution_count": null,
   "metadata": {},
   "outputs": [],
   "source": [
    "\n"
   ]
  },
  {
   "cell_type": "markdown",
   "metadata": {},
   "source": [
    "#### Un tuple n'est pas muable : on ne peut pas le modifier (ajouter, enlever ou modifier un ou plusieurs des éléments qui le constituent :\n"
   ]
  },
  {
   "cell_type": "code",
   "execution_count": null,
   "metadata": {},
   "outputs": [],
   "source": [
    "# on essaye de modifier le deuxième item du tuple hdf :\n",
    "hdf[1] = \"C'est le NOOORD !\""
   ]
  },
  {
   "cell_type": "markdown",
   "metadata": {},
   "source": [
    "#### Exercice : \n",
    "\n",
    "![title](images/regions.png)\n",
    "\n",
    "Créer un tuple *normandie* contenant les départements de cette région, puis **concaténer** ce tuple avec le tuple hdf pour obtenir un nouveau tuple : *super_region* :\n"
   ]
  },
  {
   "cell_type": "code",
   "execution_count": null,
   "metadata": {},
   "outputs": [],
   "source": [
    "# \n"
   ]
  },
  {
   "cell_type": "markdown",
   "metadata": {},
   "source": [
    "## 3- Créer un tuple de tuples :\n",
    "On peut à chaque département lui associer son numéro. On peut former ainsi un tuple dont la structure serait : *(Numéro, Nom)*. \n",
    "Une région serait alors représentée par un tuple de tuples dont la structure serait :\n",
    "*((Numéro_1, Nom_1), (Numéro_2, Nom_2), …, (Numéro_n, Nom_n))*\n"
   ]
  },
  {
   "cell_type": "code",
   "execution_count": null,
   "metadata": {},
   "outputs": [],
   "source": [
    "# Créer le nouveau tupple *hdf2* correspondant à cette structure :\n",
    "hdf2 = \n",
    "# et afficher son contenu\n",
    "print(hdf2)\n",
    "\n"
   ]
  },
  {
   "cell_type": "markdown",
   "metadata": {},
   "source": [
    "On souhaite obtenir un affichage différent, tel que celui-ci :\n",
    "\n",
    "N° : 2  =  Aisne\n",
    "\n",
    "N° : 59  =  Nord\n",
    "\n",
    "N° : 60  =  Oise\n",
    "\n",
    "N° : 62  =  Pas de Calais\n",
    "\n",
    "N° : 80  =  Somme\n",
    "\n",
    "Pour réaliser cela, il faut comprendre que chaque élément de ce tuple :\n",
    "((2,\"Aisne\"), (59,\"Nord\"),(60, \"Oise\"), (62,\"Pas de Calais\"), (80,\"Somme\"))\n",
    "par exemple (59,\"Nord\") est lui même un tuple dont :\n",
    "    + le premier item (le numéro) est accessible par son index : 0\n",
    "    + le deuxième item (le nom) est accessible par son indice : 1\n",
    "Ecrire le code permettant de présenter le contenu de ce tuple comme proposé ci-dessus :"
   ]
  },
  {
   "cell_type": "code",
   "execution_count": null,
   "metadata": {},
   "outputs": [],
   "source": [
    "# travail sur un tuple de tuples :"
   ]
  },
  {
   "cell_type": "markdown",
   "metadata": {},
   "source": [
    "## 4- Ecrire une fonction renvoyant plusieurs résultats :\n",
    "\n",
    "On peut demander à une fonction de renvoyer non pas un, mais plusieurs résultats simultanément. Ces résultats, séparés par une virgule constituent ensemble un tuple :\n"
   ]
  },
  {
   "cell_type": "code",
   "execution_count": null,
   "metadata": {},
   "outputs": [],
   "source": [
    "# la fonction suivante doit renvoyer le périmètre et l'aire' d'un rectangle\n",
    "# la compléter :\n",
    "def rectangle(longueur,largeur):\n",
    "    # renvoi du périmètre et de l'aire :\n",
    "    return \n",
    "\n",
    "# utilisation de la fonction :\n",
    "print(rectangle(3,5))\n",
    "\n",
    "# test du type de l'objet renvoyé par la fonction :\n",
    "print(type(rectangle(3,5)))"
   ]
  },
  {
   "cell_type": "markdown",
   "metadata": {},
   "source": [
    "### Exercices\n",
    "\n",
    "#### 1- Division euclidienne :\n",
    "La division euclidienne ou division entière est une opération qui, à deux entiers naturels appelés *dividende* et *diviseur*, associe deux autres entiers appelés *quotient* et *reste*. (def. Wikipédia)\n",
    "\n",
    "En Python, il y a deux opérateurs mathématiques qui vont nous permettre d'écrire une fonction que l'on notera **div_euclid(dividende, diviseur)**\n",
    "\n",
    "opérateur division entière //\n",
    "opérateur modulo : %"
   ]
  },
  {
   "cell_type": "code",
   "execution_count": null,
   "metadata": {},
   "outputs": [],
   "source": [
    "# essayer ces deux opérations :\n",
    "print(7//3)\n",
    "print(7%3)"
   ]
  },
  {
   "cell_type": "code",
   "execution_count": null,
   "metadata": {},
   "outputs": [],
   "source": [
    "# utiliser ces opérateurs pour construire la fonction div_euclide(dividende, diviseur) demandée :\n",
    "\n",
    "\n",
    "# test de la fonction :\n",
    "print(div_euclid(7,3))"
   ]
  },
  {
   "cell_type": "markdown",
   "metadata": {},
   "source": [
    "#### 2- Géométrie dans un plan :\n",
    "Dans un plan, un point est défini par deux coordonnées x et y. En Python, on pourra donc définir un point par un tuple *point = (x,y)*\n",
    "Soient deux points A et B du plan, écrire :\n",
    "- une fonction renvoyant les coordonnées du milieu M du segment [AB]\n",
    "- une fonction renvoyant la longueur du segment [AB] "
   ]
  },
  {
   "cell_type": "code",
   "execution_count": null,
   "metadata": {},
   "outputs": [],
   "source": [
    "# milieu(pt1,pt2):\n",
    "\n",
    "\n",
    "# longueur(pt1,pt2):\n",
    "\n",
    "\n",
    "# test des fonctions :"
   ]
  }
 ],
 "metadata": {
  "kernelspec": {
   "display_name": "Python 3",
   "language": "python",
   "name": "python3"
  },
  "language_info": {
   "codemirror_mode": {
    "name": "ipython",
    "version": 3
   },
   "file_extension": ".py",
   "mimetype": "text/x-python",
   "name": "python",
   "nbconvert_exporter": "python",
   "pygments_lexer": "ipython3",
   "version": "3.7.3"
  }
 },
 "nbformat": 4,
 "nbformat_minor": 2
}
