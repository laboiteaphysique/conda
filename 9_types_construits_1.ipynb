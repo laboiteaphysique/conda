{
 "cells": [
  {
   "cell_type": "markdown",
   "metadata": {},
   "source": [
    "# Types construits : Applications (1)\n",
    "\n",
    "## 1- Rappel sur la structure électronique d'un atome\n",
    "\n",
    "\n",
    "![title](images/kalzium.png)\n",
    "\n",
    "Le numéro atomique Z (également appelé nombre de charge ) représente le nombre de protons contenus à l’intérieur du noyau. L’atome étant électriquement neutre, Z peut aussi représenter le nombre d’électrons qu’il y a autour du noyau.\n",
    "\n",
    "Les électrons se répartissent sur différents niveaux électroniques notés : K,L, M, N … \n",
    "\n",
    "On rappelle les règles de remplissage des niveaux :\n",
    "    * on remplit un niveau avant de passer au suivant.\n",
    "    * on commence par le niveau K (puis L, puis M, puis N)\n",
    "        * Le niveau K est rempli (= saturé) avec 2 électrons\n",
    "        * Le niveau L est rempli avec 8 électrons\n",
    "        * Le niveau M est rempli avec 18 électrons\n",
    "        * mais le niveau externe ne peut pas contenir plus de 8 électrons.\n",
    "\n",
    "    * La structure électronique de l’atome d’hydrogène peut s’écrire : (K)1\n",
    "    * celle de l’atome d’oxygène (Z = 8) peut s’écrire : (K)2 (L)6\n",
    "    * celle de l’atome de chlore (Z = 17) peut s’écrire : (K)2 (L)8 (M)7\n",
    "    * celle de l'atome de potassium (Z = 19) peut s'écrire : (K)2 (L)8 (M)8 (N)1 et non pas (K)2 (L)8 (M)9, car la\n",
    "    couche M, en tant que dernier niveau, ne peut pas accueillir plus de 8 électrons.\n",
    "    \n",
    " \n",
    "    \n"
   ]
  },
  {
   "cell_type": "markdown",
   "metadata": {},
   "source": [
    "## 2- Une fonction pour obtenir la structure électronique d'un atome\n",
    "\n",
    "On demande ici de créer une fonction : struc_elec(Z) qui prend un entier en paramètre (Z) compris entre 1 et 20 et qui renvoie en valeur la structure électronique.\n",
    "\n",
    "Remarque : on représente ici une vision simplifiée de la structure électronique d'un atome. Cette vision n'est plus valide pour les éléments chimiques ayant un N° atomique Z > 20 \n"
   ]
  },
  {
   "cell_type": "code",
   "execution_count": null,
   "metadata": {},
   "outputs": [],
   "source": [
    "def struc_elec(Z):\n",
    "    \"\"\"exemple de résultat renvoyé par cette fonction \n",
    "    struc_elec(1)  --> (K)1\n",
    "    struc_elec(8)  --> (K)2 (L)6\n",
    "    struc_elec(17) --> (K)2 (L)8 (M)7\n",
    "    struc_elec(20) --> (K)2 (L)8 (M)8 (N)2 \"\"\"\n",
    "    # écrire ci-dessous le code de cette fonction :\n",
    "    \n",
    "\n",
    "# test de la fonction pour Z compris entre 1 et 20 :\n",
    "for i in range(1,21):\n",
    "    print(struc_elec(i))"
   ]
  },
  {
   "cell_type": "markdown",
   "metadata": {},
   "source": [
    "## 3- Créer un type construit :\n",
    "\n",
    "On veut créer un type construit (que l’on nommera **mendeleiev**) capable de contenir des informations relatives aux 20 premiers éléments chimiques. \n",
    "\n",
    "Pour simplifier le travail :\n",
    "\n",
    "    • on ne gardera que les 20 premiers éléments chimiques du tableau périodique : de l'hydrogène (H) au \n",
    "    calcium (Ca).\n",
    "    • pour chaque élément chimique, la structure de données stockera un item contenant les trois données :\n",
    "    N° atomique, symbole et nom (dans cet ordre)\n",
    "    \n",
    "Les informations scientifiques nécessaires au remplissage de cette structure *mendeleiev* peuvent se trouver dans la classification périodique des éléments (livre de chimie, logiciel Kalzium sous Linux, recherche sur le net...)\n",
    "\n",
    "Le document d'accompagnement fait réfléchir à la structure à employer. Le lire avant de créer la structure mendeleiev ci-dessous :"
   ]
  },
  {
   "cell_type": "code",
   "execution_count": null,
   "metadata": {},
   "outputs": [],
   "source": [
    "# Créer la structure mendeleiev pour les 20 premiers élément chimiques :\n",
    "mendeleiev = "
   ]
  },
  {
   "cell_type": "markdown",
   "metadata": {},
   "source": [
    "## 4- Premier programme\n",
    "\n",
    "Ecrire un programme permettant d'afficher sur 4 colonnes, et dans cet ordre :\n",
    "\n",
    "    le N° atomique, le symbole, le nom et la structure électronique\n",
    "\n",
    "Exemple d'affichage pour quelques éléments :\n",
    "\n",
    "   ![title](images/tab_period.png)\n",
    "   \n",
    "*Pour obtenir le résultat comme ici sous forme 'tabulée' on pourra utiliser la séquence d'échappement '\\t'*\n",
    "\n",
    "#### ce programme devra utiliser la structure de données *mendeleiev* ainsi que la fonction *struc_elec( )* définies avant.\n"
   ]
  }
 ],
 "metadata": {
  "kernelspec": {
   "display_name": "Python 3",
   "language": "python",
   "name": "python3"
  },
  "language_info": {
   "codemirror_mode": {
    "name": "ipython",
    "version": 3
   },
   "file_extension": ".py",
   "mimetype": "text/x-python",
   "name": "python",
   "nbconvert_exporter": "python",
   "pygments_lexer": "ipython3",
   "version": "3.7.3"
  }
 },
 "nbformat": 4,
 "nbformat_minor": 2
}
