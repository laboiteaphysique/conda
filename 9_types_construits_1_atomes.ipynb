{
 "cells": [
  {
   "cell_type": "markdown",
   "metadata": {},
   "source": [
    "#  Types construits : Applications (1)\n",
    "\n",
    "## 1- Rappel sur la structure électronique d'un atome\n",
    "\n",
    "\n",
    "![title](images/kalzium.png)\n",
    "\n",
    "Le numéro atomique Z (également appelé nombre de charge ) représente le nombre de protons contenus à l’intérieur du noyau. L’atome étant électriquement neutre, Z peut aussi représenter le nombre d’électrons qu’il y a autour du noyau.\n",
    "\n",
    "Les électrons se répartissent sur différents niveaux électroniques notés : K,L, M, N … \n",
    "\n",
    "On rappelle les règles de remplissage des niveaux :\n",
    "    * on remplit un niveau avant de passer au suivant.\n",
    "    * on commence par le niveau K (puis L, puis M, puis N)\n",
    "        * Le niveau K est rempli (= saturé) avec 2 électrons\n",
    "        * Le niveau L est rempli avec 8 électrons\n",
    "        * Le niveau M est rempli avec 18 électrons\n",
    "        * mais le niveau externe ne peut pas contenir plus de 8 électrons.\n",
    "\n",
    "    * La structure électronique de l’atome d’hydrogène peut s’écrire : (K)1\n",
    "    * celle de l’atome d’oxygène (Z = 8) peut s’écrire : (K)2 (L)6\n",
    "    * celle de l’atome de chlore (Z = 17) peut s’écrire : (K)2 (L)8 (M)7\n",
    "    * celle de l'atome de potassium (Z = 19) peut s'écrire : (K)2 (L)8 (M)8 (N)1 et non pas (K)2 (L)8 (M)9, car la\n",
    "    couche M, en tant que dernier niveau, ne peut pas accueillir plus de 8 électrons.\n",
    "    \n",
    " \n",
    "    \n"
   ]
  },
  {
   "cell_type": "markdown",
   "metadata": {},
   "source": [
    "## 2- Une fonction pour obtenir la structure électronique d'un atome\n",
    "\n",
    "On demande ici de créer une fonction : struc_elec(Z) qui prend un entier en paramètre (Z) compris entre 1 et 20 et qui renvoie en valeur la structure électronique.\n",
    "\n",
    "Remarque : on représente ici une vision simplifiée de la structure électronique d'un atome. Cette vision n'est plus valide pour les éléments chimiques ayant un N° atomique Z > 20 \n"
   ]
  },
  {
   "cell_type": "code",
   "execution_count": null,
   "metadata": {},
   "outputs": [],
   "source": [
    "def struc_elec(Z):\n",
    "    \"\"\"exemple de résultat renvoyé par cette fonction \n",
    "    struc_elec(1)  --> (K)1\n",
    "    struc_elec(8)  --> (K)2 (L)6\n",
    "    struc_elec(17) --> (K)2 (L)8 (M)7\n",
    "    struc_elec(20) --> (K)2 (L)8 (M)8 (N)2 \"\"\"\n",
    "    # écrire ci-dessous le code de cette fonction :\n",
    "    \n",
    "\n",
    "# test de la fonction pour Z compris entre 1 et 20 :\n",
    "for i in range(1,21):\n",
    "    print(struc_elec(i))"
   ]
  },
  {
   "cell_type": "markdown",
   "metadata": {},
   "source": [
    "## 3- Créer un type construit :\n",
    "\n",
    "On veut créer un type construit (que l’on nommera **mendeleiev**) capable de contenir des informations relatives aux 20 premiers éléments chimiques. \n",
    "\n",
    "Pour chaque élément chimique, la structure de données stockera un item contenant les trois données :\n",
    "  \n",
    "                              N° atomique, symbole et nom (dans cet ordre)\n",
    "    \n",
    "\n",
    "A ce stade du cours, nous connaissons deux sortes de types construits :\n",
    "    \n",
    "    -les tuples\n",
    "    \n",
    "    -les listes\n",
    "\n",
    "Parmi les quatre types construits suivants que l’on pourrait proposer pour réaliser la structure mendeleiev, lequel vous semble le mieux adapté au traitement du problème posé :\n",
    "\n",
    "        ◦ un tuple de tuples :  mendeleiev = ((…, …, …), (…, …, …),…, (…, …, …))\n",
    "        \n",
    "        ◦ un tuple de listes :   mendeleiev = ([…, …, …], […, …, …],…, […, …, …])\n",
    "        \n",
    "        ◦ une liste de listes :  mendeleiev = [[…, …, …], […, …, …],…, […, …, …]]\n",
    "        \n",
    "        ◦ une liste de tuples : mendeleiev = [(…, …, …), (…, …, …),…, (…, …, …)]\n",
    "        \n",
    "Il faudra être capable de justifier votre choix\n",
    "\n",
    "Pour accélérer l'écriture de cette structure de données, on pourra copier les informations suivantes :\n",
    "\n",
    "    1, 'H', 'hydrogène'    2, 'He', 'hélium'    3, 'Li', 'lithium'    4, 'Be', 'béryllium'    5, 'B', 'bore'    \n",
    "    \n",
    "    6, 'C', 'carbone'      7, 'N', 'azote'      8, 'O', 'oxygène'     9, 'F', 'fluor'        10, 'Ne', 'néon'\n",
    "    \n",
    "    11, 'Na', 'sodium'    12, 'Mg', 'magnésium'    13, 'Al', 'aluminium'    14, 'Si', 'silicium'  15, 'P', 'phospore'\n",
    "    \n",
    "    16, 'S', 'soufre'     17, 'Cl', 'chlore'      18, 'Ar', 'argon'    19, 'K', 'potassium'    20, 'Ca', 'calcium'\n",
    "    \n",
    "Chaque item de la structure mendeleiev est constitué de trois données :\n",
    "\n",
    "Le symbole et le nom de l’élément sont représentés par des chaînes de caractères. \n",
    "\n",
    "Pour le numéro atomique Z, on pourrait envisager d’utiliser le type int, float ou str ce qui donnerait sur l'exemple de l'hydrogène :\n",
    " - conserver la notation 1 pour avoir un type entier\n",
    " - écrire 1.0 pour pour avoir un type flottant\n",
    " - ou encore écrire '1' pour avoir un type chaîne de caractère\n",
    "\n",
    "Quel type vous semble le plus judicieux à utiliser ici ?"
   ]
  },
  {
   "cell_type": "code",
   "execution_count": null,
   "metadata": {},
   "outputs": [],
   "source": [
    "# Créer la structure mendeleiev pour les 20 premiers élément chimiques :\n",
    "mendeleiev = \n",
    "\n",
    "# Ecrire la ligne d'instruction permettant de donner le type de la structure mendeleiev\n",
    "print( )\n",
    "\n",
    "# Ecrire la ligne d'instruction permettant de donner le type attribué aux différents N° atomiques :\n",
    "print( )\n"
   ]
  },
  {
   "cell_type": "markdown",
   "metadata": {},
   "source": [
    "## 4- Premier programme : sortie sur écran\n",
    "\n",
    "Ecrire dans Thonny un programme permettant d'afficher sur 4 colonnes, et dans cet ordre :\n",
    "\n",
    "    le N° atomique, le symbole, le nom et la structure électronique\n",
    "\n",
    "Exemple d'affichage pour quelques éléments :\n",
    "\n",
    "![title](images/tab_period.png)\n",
    "   \n",
    "Pour obtenir le résultat comme ici sous forme 'tabulée' on pourra utiliser la séquence d'échappement '\\t'\n",
    "\n",
    "#### ce programme devra utiliser la structure de données *mendeleiev* ainsi que la fonction *struc_elec( )* définies avant.\n",
    "\n"
   ]
  },
  {
   "cell_type": "markdown",
   "metadata": {},
   "source": [
    "## 5- Deuxième programme : sortie vers un fichier\n",
    "\n",
    "Reprendre le programme précédent et le modiifer en conséquence pour réaliser l'affichage des 4 colonnes, non plus sur un écran, mais dans un fichier texte que l'on nommera 'tableau_elements.txt'. \n",
    "\n",
    "Un exemple de sortie sur fichier avec le lien ci-dessous :\n",
    "\n",
    "[ exemple de fichier](images/tableau_elements.txt)"
   ]
  },
  {
   "cell_type": "markdown",
   "metadata": {},
   "source": [
    "## 6- Troisième programme : interaction avec l'utilisateur\n",
    "\n",
    "Cette fois ci, le programme doit être interactif : on demandera à l'utilisateur d'entrer le nom d'un élément chimique.\n",
    "\n",
    "Le programme affichera alors à l'écran :\n",
    "\n",
    "    le N° atomique, le symbole, le nom et la structure électronique de cet élément\n",
    "    \n",
    "Lorsque le programme sera fonctionnel on envisagera les améliorations suivantes :\n",
    "  \n",
    "    - accepter un nom convenable d'élément mais qui serait écrit de façon différente au niveau de la casse : \n",
    "    par exemple les mots 'Carbone' ou 'CARBONE' ou pourquoi pas 'CArbone' etc seraient tout aussi valides\n",
    "    que le mot 'carbone' présent dans la structure mendeleiev\n",
    "    \n",
    "    - envoi d'un message d'erreur si le nom donné ne correspond vraiment pas à un élément dans la structure \n",
    "    mendeleiev\n",
    "    \n"
   ]
  }
 ],
 "metadata": {
  "kernelspec": {
   "display_name": "Python 3",
   "language": "python",
   "name": "python3"
  },
  "language_info": {
   "codemirror_mode": {
    "name": "ipython",
    "version": 3
   },
   "file_extension": ".py",
   "mimetype": "text/x-python",
   "name": "python",
   "nbconvert_exporter": "python",
   "pygments_lexer": "ipython3",
   "version": "3.7.3"
  }
 },
 "nbformat": 4,
 "nbformat_minor": 2
}
