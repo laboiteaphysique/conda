{
 "cells": [
  {
   "cell_type": "code",
   "execution_count": null,
   "metadata": {},
   "outputs": [],
   "source": [
    "!pip install networkx"
   ]
  },
  {
   "cell_type": "code",
   "execution_count": null,
   "metadata": {},
   "outputs": [],
   "source": [
    "%matplotlib inline\n",
    "import networkx as nx\n",
    "import matplotlib.pyplot as plt\n",
    "\n",
    "class Noeud:\n",
    "    def __init__(self, valeur, gauche = None, droit = None):\n",
    "        self.valeur = valeur\n",
    "        self.gauche = gauche\n",
    "        self.droit = droit\n",
    "\n",
    "def hauteur(arbre):\n",
    "    if arbre is None:\n",
    "        return 0\n",
    "    else:\n",
    "        return 1 + max(hauteur(arbre.gauche), hauteur(arbre.droit))\n",
    "\n",
    "def repr_graph(arbre, size=(8,8), null_node=False):\n",
    "    \"\"\"\n",
    "    size : tuple de 2 entiers. Si size est int -> (size, size)\n",
    "    null_node : si True, trace les liaisons vers les sous-arbres vides\n",
    "    \"\"\"\n",
    "    def parkour(arbre, noeuds, branches, labels, positions, profondeur, pos_courante, pos_parent, null_node):\n",
    "        if arbre is not None:\n",
    "            noeuds[0].append(pos_courante)\n",
    "            positions[pos_courante] = (pos_courante, profondeur)\n",
    "            profondeur -= 1\n",
    "            labels[pos_courante] = str(arbre.valeur)\n",
    "            branches[0].append((pos_courante, pos_parent))\n",
    "            pos_gauche = pos_courante - 2**profondeur\n",
    "            parkour(arbre.gauche, noeuds, branches, labels, positions, profondeur, pos_gauche, pos_courante, null_node)\n",
    "            pos_droit = pos_courante + 2**profondeur\n",
    "            parkour(arbre.droit, noeuds, branches, labels, positions, profondeur, pos_droit, pos_courante, null_node)\n",
    "        elif null_node:\n",
    "            noeuds[1].append(pos_courante)\n",
    "            positions[pos_courante] = (pos_courante, profondeur)\n",
    "            branches[1].append((pos_courante, pos_parent))\n",
    "    \n",
    "    \n",
    "    if arbre is None:\n",
    "        return\n",
    "    \n",
    "    branches = [[]]\n",
    "    profondeur = hauteur(arbre)\n",
    "    pos_courante = 2**profondeur\n",
    "    noeuds = [[pos_courante]]\n",
    "    positions = {pos_courante: (pos_courante, profondeur)} \n",
    "    labels = {pos_courante: str(arbre.valeur)}\n",
    "    \n",
    "    if null_node:\n",
    "        branches.append([])\n",
    "        noeuds.append([])\n",
    "        \n",
    "    profondeur -= 1\n",
    "    parkour(arbre.gauche, noeuds, branches, labels, positions, profondeur, pos_courante - 2**profondeur, pos_courante, null_node)\n",
    "    parkour(arbre.droit, noeuds, branches, labels, positions, profondeur, pos_courante + 2**profondeur, pos_courante, null_node) \n",
    "\n",
    "    mon_arbre = nx.Graph()\n",
    "    \n",
    "    if type(size) == int:\n",
    "        size = (size, size)    \n",
    "    plt.figure(figsize=size)\n",
    "    \n",
    "    nx.draw_networkx_nodes(mon_arbre, positions, nodelist=noeuds[0], node_color=\"white\", node_size=550, edgecolors=\"blue\")\n",
    "    nx.draw_networkx_edges(mon_arbre, positions, edgelist=branches[0], edge_color=\"black\", width=2)\n",
    "    nx.draw_networkx_labels(mon_arbre, positions, labels)\n",
    "\n",
    "    if null_node:\n",
    "        nx.draw_networkx_nodes(mon_arbre, positions, nodelist=noeuds[1], node_color=\"white\", node_size=50, edgecolors=\"grey\")\n",
    "        nx.draw_networkx_edges(mon_arbre, positions, edgelist=branches[1], edge_color=\"grey\", width=1)\n",
    "\n",
    "    ax = plt.gca()\n",
    "    ax.margins(0.1)\n",
    "    plt.axis(\"off\")\n",
    "    plt.show()\n",
    "\n",
    "\n",
    "a2 = Noeud(7, \n",
    "           (Noeud(3, \n",
    "                  Noeud(1, \n",
    "                        None, Noeud(5, Noeud(1), Noeud(3))),\n",
    "                  Noeud(2, \n",
    "                        Noeud(4, Noeud(3), Noeud(15)), Noeud(11)))), \n",
    "           Noeud(3, Noeud(6), Noeud(7, Noeud(14, None, Noeud(2)))))\n",
    "\n",
    "#a2 = Noeud(1, (Noeud(2, None, Noeud(4, Noeud(7, Noeud(10), Noeud(11)), Noeud(8)))), Noeud(3, Noeud(5), Noeud(6, Noeud(9))))\n",
    "#a2 = Noeud(1, Noeud(2))\n",
    "repr_graph(a2, (8,8), True)\n",
    "repr_graph(a2, (8,4), True)\n",
    "repr_graph(a2, 10, True)\n",
    "repr_graph(a2)\n",
    "\n",
    "\n",
    "arbre_f = Noeud('f')\n",
    "arbre_g = Noeud('g')\n",
    "arbre_c = Noeud('c',arbre_f,arbre_g)\n",
    "arbre_h = Noeud('h')\n",
    "arbre_i = Noeud('i')\n",
    "arbre_j = Noeud('j')\n",
    "arbre_d = Noeud('d',arbre_h,arbre_i)\n",
    "arbre_e = Noeud('e',None, arbre_j)\n",
    "arbre_b = Noeud('b',arbre_d,arbre_e)\n",
    "arbre_a = Noeud('a',arbre_b,arbre_c)\n",
    "repr_graph(arbre_a)\n"
   ]
  },
  {
   "cell_type": "code",
   "execution_count": null,
   "metadata": {},
   "outputs": [],
   "source": [
    "def parfait(n, p=None):\n",
    "    if p is None:\n",
    "        p = 1\n",
    "    if n == 0:\n",
    "        return None\n",
    "    return Noeud(p, parfait(n-1,2*p), parfait(n-1,2*p+1))\n",
    "\n",
    "pe = parfait(6)\n",
    "repr_graph(pe, (16,6))"
   ]
  },
  {
   "cell_type": "code",
   "execution_count": null,
   "metadata": {},
   "outputs": [],
   "source": [
    "a = Noeud(7, Noeud(5, Noeud(4, Noeud(2, Noeud(1), Noeud(3))), Noeud(6)),\n",
    "          Noeud(10, Noeud(8, None, Noeud(9))))\n",
    "repr_graph(a, (8,4), True)"
   ]
  },
  {
   "cell_type": "code",
   "execution_count": null,
   "metadata": {},
   "outputs": [],
   "source": [
    "a = Noeud(6, Noeud(1, None, Noeud(2, None, Noeud(4, Noeud(3), Noeud(5)))),\n",
    "          Noeud(7, None, Noeud(8)))\n",
    "repr_graph(a, (8,4), True)\n"
   ]
  },
  {
   "cell_type": "code",
   "execution_count": null,
   "metadata": {},
   "outputs": [],
   "source": [
    "a = Noeud(6, Noeud(3, Noeud(1,None, Noeud(2, None, None)), \n",
    "                   Noeud(4,None, Noeud(5,None, None))),Noeud(8,Noeud(7), Noeud(9)))\n",
    "repr_graph(a, (8,4), True)\n"
   ]
  },
  {
   "cell_type": "code",
   "execution_count": null,
   "metadata": {
    "scrolled": true
   },
   "outputs": [],
   "source": [
    "a =Noeud(6, Noeud(3, Noeud(2, None, None), Noeud(4, None, None)), Noeud(8, None, None))\n",
    "repr_graph(a, (8,4), True)\n"
   ]
  },
  {
   "cell_type": "code",
   "execution_count": null,
   "metadata": {},
   "outputs": [],
   "source": [
    "a =Noeud(4,Noeud(3,Noeud(1,Noeud(0),Noeud(2)),None),Noeud(8,Noeud(7),Noeud(9)))\n",
    "repr_graph(a, (8,4), True)"
   ]
  }
 ],
 "metadata": {
  "kernelspec": {
   "display_name": "Python 3",
   "language": "python",
   "name": "python3"
  },
  "language_info": {
   "codemirror_mode": {
    "name": "ipython",
    "version": 3
   },
   "file_extension": ".py",
   "mimetype": "text/x-python",
   "name": "python",
   "nbconvert_exporter": "python",
   "pygments_lexer": "ipython3",
   "version": "3.7.3"
  }
 },
 "nbformat": 4,
 "nbformat_minor": 4
}
