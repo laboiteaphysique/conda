{
 "cells": [
  {
   "cell_type": "markdown",
   "metadata": {},
   "source": [
    "# Codage de César\n",
    "\n",
    "Le codage de César : c'est une technique de chiffrement pour (tenter de) rendre un texte incompréhensible pour toute personne n'ayant pas la *clé de déchiffrement*. Cette technique a été utilisée par Jules César pour éviter que des information secrètes transmises par courrier ne tombe aux mains des ennemis... Ce n'est pourtant pas un chiffrement très compliqué à décoder car il fonctionne simplement par décalage de lettres (comme indiqué dans cette image tirée de wikipedia):\n",
    "  ![title](images/320px-Caesar3.png)\n",
    "  \n",
    "  \n",
    "Pour éviter le problème des caractères particuliers (é, è, ï, ç ...) on ne travaillera que sur des textes écrits en lettres capitales\n",
    "  \n"
   ]
  },
  {
   "cell_type": "markdown",
   "metadata": {},
   "source": [
    "On définit ci-dessous une chaîne de caractères représentant l'alphabet complet en lettres majuscules.\n",
    "Une chaîne de caractère est une séquence : chaque élément qui la compose a donc un index lié à sa position :\n",
    " - 0 pour A\n",
    " - 1 pour B\n",
    " ...\n",
    " - 25 pour Z (... la 26ème lettre)"
   ]
  },
  {
   "cell_type": "code",
   "execution_count": null,
   "metadata": {},
   "outputs": [],
   "source": [
    "alphabet = 'ABCDEFGHIJKLMNOPQRSTUVWXYZ'\n",
    "\n",
    "# on peut obtenir le caractère ayant l'index i avec  alphabet[i] comme par exemple :\n",
    "i = 5\n",
    "alphabet[i]"
   ]
  },
  {
   "cell_type": "markdown",
   "metadata": {},
   "source": [
    "Compléter le code de la fonction rang_lettre(carac) qui permet de récupérer le rang (= l'index) auquel se trouve une des lettres de l'alphabet.\n",
    "\n",
    "Par exemple **rang_lettre('F')** doit renvoyer la valeur **5** (le rang démarre à 0 avec la lettre 'A')"
   ]
  },
  {
   "cell_type": "code",
   "execution_count": null,
   "metadata": {},
   "outputs": [],
   "source": [
    "def rang_lettre(carac):\n",
    "    \"\"\"\" fonction qui renvoie le rang du caractère 'carac'\n",
    "    dans l'alphabet\n",
    "    :param carac: un caractère\n",
    "    :type carac: str\n",
    "    :return: le rang du caractère dans l'alphabet ;si non trouvé : -1\n",
    "    Exemples :\n",
    "    >>> rang_lettre('A')\n",
    "    0\n",
    "    >>> rang_lettre('Z')\n",
    "    25\n",
    "    \"\"\"\n",
    "    for i in range(26):\n",
    "        if carac ==  code à compléter ici                  :\n",
    "            return code à compléter ici\n",
    "   "
   ]
  },
  {
   "cell_type": "code",
   "execution_count": null,
   "metadata": {},
   "outputs": [],
   "source": [
    "# test de la fonction rang_lettre(carac) :\n",
    "rang_lettre('Z')"
   ]
  },
  {
   "cell_type": "markdown",
   "metadata": {},
   "source": [
    "Mais on peut aussi vouloir faire la transformation inverse : on donne le rang et on récupère le caractère.\n",
    "\n",
    "Ecrire le code de la fonction suivante qui renvoie la lettre correspondant au rang donné en argument :"
   ]
  },
  {
   "cell_type": "code",
   "execution_count": null,
   "metadata": {},
   "outputs": [],
   "source": [
    "def lettre_rang(rang):\n",
    "    \"\"\"\" fonction qui renvoie la lettre de l'alphabet correspondant à son rang\n",
    "    :param rang: le rang de la lettre\n",
    "    :type rang: int\n",
    "    :return: la lettre majuscule associée à rang\n",
    "    :rtype: str\n",
    "    Exemple :\n",
    "    >>> lettre_rang(0)\n",
    "    'A'\n",
    "    >>> lettre_rang(4)\n",
    "    'E'\n",
    "    \"\"\"\n",
    "   \n",
    "        \n"
   ]
  },
  {
   "cell_type": "code",
   "execution_count": null,
   "metadata": {},
   "outputs": [],
   "source": [
    "# Test de la fonction lettre_rang(rang) :\n",
    "lettre_rang(4)"
   ]
  },
  {
   "cell_type": "markdown",
   "metadata": {},
   "source": [
    "Munis de ces fonctions rang_lettre() et lettre_rang(), on va pouvoir écrire le code de la fonction decal_lettre(carac, dec). Elle vous est donnée ci-dessous (son fonctionnement sera expliqué en classe).\n",
    "\n",
    "Vérifier dans la cellule suivante qu'elle donne bien les résultats donnés en exemple dans la docstring."
   ]
  },
  {
   "cell_type": "code",
   "execution_count": null,
   "metadata": {},
   "outputs": [],
   "source": [
    "def decal_lettre(carac, dec):\n",
    "    \"\"\" fonction qui produit une lettre décalée de 'dec' par rapport \n",
    "    à la lettre de départ 'carac'\n",
    "    :param carac: la lettre à décaler\n",
    "    :type carac: str\n",
    "    :param dec: le décalage à réaliser\n",
    "    :type dec: int\n",
    "    Exemple :\n",
    "    >>> decal_lettre('A', 3)\n",
    "    'D'\n",
    "    >>> decal_lettre('Y', 3)\n",
    "    'B'\n",
    "    \"\"\"\n",
    "    if carac in alphabet:\n",
    "        return lettre_rang((rang_lettre(carac) + dec)%26)\n",
    "    else:\n",
    "        return carac\n",
    "    \n"
   ]
  },
  {
   "cell_type": "code",
   "execution_count": null,
   "metadata": {},
   "outputs": [],
   "source": [
    "# test de la fonction decal_lettre(carac, dec) :\n"
   ]
  },
  {
   "cell_type": "markdown",
   "metadata": {},
   "source": [
    "On peut alors réaliser le codage d'un texte complet :"
   ]
  },
  {
   "cell_type": "code",
   "execution_count": null,
   "metadata": {},
   "outputs": [],
   "source": [
    "def codage_cesar(texte, decalage):\n",
    "    \"\"\"\" fonction qui réalise le codage de César d'un texte.\n",
    "    :param texte: le texte (en majuscules) à coder\n",
    "    :type texte: str\n",
    "    :param decalage: le decalage à appliquer pour réaliser le chiffrement\n",
    "    :type decalage: int\n",
    "    \"\"\"\n",
    "    texte_code = ''\n",
    "    \n",
    "    # votre code à écrire ici !\n",
    "    \n",
    "\n"
   ]
  },
  {
   "cell_type": "code",
   "execution_count": null,
   "metadata": {},
   "outputs": [],
   "source": [
    "# test de la fonction codage_cesar(texte, decalage):\n",
    "codage_cesar('VOICI LE TEXTE A CHIFFRER !', 3)"
   ]
  },
  {
   "cell_type": "markdown",
   "metadata": {},
   "source": [
    "Et si on a un texte supposé être chiffré avec le code de César, pourrait-on essayer de le déchiffrer ?\n",
    "\n",
    "Ecrire la fonction qui va permettre de \"cracker\" ce code :"
   ]
  },
  {
   "cell_type": "code",
   "execution_count": null,
   "metadata": {},
   "outputs": [],
   "source": [
    "def crack_cesar(texte):\n",
    "    "
   ]
  },
  {
   "cell_type": "code",
   "execution_count": null,
   "metadata": {},
   "outputs": [],
   "source": [
    "# test de la fonction crack_cesar(texte):\n"
   ]
  }
 ],
 "metadata": {
  "kernelspec": {
   "display_name": "Python 3",
   "language": "python",
   "name": "python3"
  },
  "language_info": {
   "codemirror_mode": {
    "name": "ipython",
    "version": 3
   },
   "file_extension": ".py",
   "mimetype": "text/x-python",
   "name": "python",
   "nbconvert_exporter": "python",
   "pygments_lexer": "ipython3",
   "version": "3.7.3"
  }
 },
 "nbformat": 4,
 "nbformat_minor": 2
}
