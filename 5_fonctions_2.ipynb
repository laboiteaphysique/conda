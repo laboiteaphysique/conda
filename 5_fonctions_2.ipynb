{
 "cells": [
  {
   "cell_type": "markdown",
   "metadata": {},
   "source": [
    "# Travailler avec les fonctions (2) : créer un module de fonctions\n",
    "\n",
    "## Introduction :\n",
    "\n",
    "Dans le notebook précédent (\"Travailler avec les fonctions (1)\"), on a vu avec deux exemples que l'on pouvait calculer le volume de toute forme droite à l'aide d'une seule fonction notée **volume(aire_base,h)** prenant en paramètre l'aire de la base, cette aire étant fournie par une autre fonction, qui elle, est spécifique de la forme étudiée.\n",
    "\n",
    "On peut donc envisager de se créer un catalogue de fonctions capables de calculer la surface de différentes formes planes simples. \n"
   ]
  },
  {
   "cell_type": "markdown",
   "metadata": {},
   "source": [
    "## 1- Définitions de nouvelles fonctions :\n",
    "\n",
    "Ecrire la définition d'une fonction capable de renvoyer la surface d'un carré de côté 'a'. (Cette fonction pourra alimenter le calcul du volume d'un cube ou d'un parallélépipède rectangle à base carrée) :\n",
    "\n",
    "![title](images/carre.png)"
   ]
  },
  {
   "cell_type": "code",
   "execution_count": null,
   "metadata": {},
   "outputs": [],
   "source": [
    "# Fonction qui calcule la surface d'un carré :"
   ]
  },
  {
   "cell_type": "markdown",
   "metadata": {},
   "source": [
    "Ecrire la définition d'une fonction capable de renvoyer la surface d'un triangle de base 'b' et de \"hauteur\" 'h'. (Cette fonction pourra alimenter le calcul du volume d'un prisme à base triangulaire) :\n",
    "\n",
    "![title](images/prisme.png)"
   ]
  },
  {
   "cell_type": "code",
   "execution_count": null,
   "metadata": {},
   "outputs": [],
   "source": [
    "# Fonction qui calcule la surface d'un triangle :"
   ]
  }
 ],
 "metadata": {
  "kernelspec": {
   "display_name": "Python 3",
   "language": "python",
   "name": "python3"
  },
  "language_info": {
   "codemirror_mode": {
    "name": "ipython",
    "version": 3
   },
   "file_extension": ".py",
   "mimetype": "text/x-python",
   "name": "python",
   "nbconvert_exporter": "python",
   "pygments_lexer": "ipython3",
   "version": "3.7.3"
  }
 },
 "nbformat": 4,
 "nbformat_minor": 2
}
