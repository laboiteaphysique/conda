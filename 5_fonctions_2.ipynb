{
 "cells": [
  {
   "cell_type": "markdown",
   "metadata": {},
   "source": [
    "# Travailler avec les fonctions (2) : créer un module de fonctions\n",
    "\n",
    "## 1- Créer un module de fonctions :\n",
    "\n",
    "Nous sommes maintenant en possession de 4 fonctions qui calculent des surfaces de formes élementaires (carré, rectangle, triangle, disque). Pour pouvoir les réutiliser dans différents programmes, on va les placer ensemble dans un fichier d'extension '.py'. Ce fichier porte alors le nom de **module de fonctions**. Ce sera un module de fonctions personnel mais qui s'utilisera de la même façon qu'un module tel que le module math fourni par Python.\n",
    "On le placera dans le même dossier que le fichier du programme qui l'utilise.\n",
    "\n",
    "Ce module a déjà été préparé et placé au bon endroit sur le serveur Jupyter.\n",
    "\n",
    "Pour pouvoir l'utiliser dans un script Python, il faut **l'importer**. Ceci se fera en début de programme.\n",
    "\n",
    "Il existe plusieurs façons d'importer un module de fonctions. La meilleure façon consiste à écrire :\n",
    "    \n",
    "                        import module_surfaces \n",
    "                        \n"
   ]
  },
  {
   "cell_type": "code",
   "execution_count": null,
   "metadata": {},
   "outputs": [],
   "source": [
    "import module_surfaces\n",
    "# Pour utiliser un module de fonctions il faut connaître les fonctions\n",
    "# qu'il contient :\n",
    "dir(module_surfaces)"
   ]
  },
  {
   "cell_type": "code",
   "execution_count": null,
   "metadata": {},
   "outputs": [],
   "source": [
    "# ... et savoir rechercher de l'aide sur ce module :\n",
    "help(module_surfaces)"
   ]
  },
  {
   "cell_type": "code",
   "execution_count": null,
   "metadata": {},
   "outputs": [],
   "source": [
    "# ... ou sur une fonction en particulier comme celle dont on aura besoin dans la cellule suivante\n",
    "# pour calculer la surface d'un disque :\n",
    "help(module_surfaces.surface_disque)"
   ]
  },
  {
   "cell_type": "markdown",
   "metadata": {},
   "source": [
    "**Remarque :**\n",
    "Toute cette aide est disponible parce que le programmeur a pris soin de **documenter** chacune de ses fonctions en rédigeant un(e) **docstring** pour chacune d'elles. Inutile de voir le code de la fonction, l'important est de savoir :\n",
    "   * à quoi elle sert\n",
    "   * quels paramètres elle prend en entrée\n",
    "   * ce qu'elle renvoie en sortie\n",
    "   "
   ]
  },
  {
   "cell_type": "code",
   "execution_count": null,
   "metadata": {},
   "outputs": [],
   "source": [
    "# Remarquer que l'on n'importe pas le module math pour le calcul demandé ici\n",
    "# Par contre nous avons dû l'importer dans le module de fonctions personnel 'module_surfaces'\n",
    "# car la fonction surface_disque() en a besoin (calcul avec la constante pi)\n",
    "\n",
    "import module_surfaces \n",
    "\n",
    "def volume(aire_base,h):\n",
    "    # cette fonction calcule et renvoie le volume d'une forme simple\n",
    "    # par le produit de la surface de la base par la hauteur\n",
    "    # paramètre à fournir : \n",
    "    #    - aire_base : la surface de la base\n",
    "    #    - h : la hauteur\n",
    "    return aire_base*h\n",
    "\n",
    "D = int(input('Entrer en cm le diamètre du cylindre : '))\n",
    "H = int(input('Entrer en cm la hauteur du cylindre : '))\n",
    "\n",
    "print(volume(module_surfaces.surface_disque(D/2),H))"
   ]
  },
  {
   "cell_type": "markdown",
   "metadata": {},
   "source": [
    "## 2- Application : un code béton ...\n",
    "\n",
    "![title](images/podium.png)\n",
    "\n",
    "Le lycée Pasteur veut faire fabriquer un podium constitué de 4 cubes identiques en béton. Il servira à la remise des médailles pour les trois meilleurs programmeurs du lycée... ;-)\n",
    "\n",
    "Toutes les faces visibles seront recouvertes d'un linoléum ; \n",
    "\n",
    "Le coût des matériaux est le suivant :\n",
    "\n",
    "    - le béton est à 90 € le mètre-cube.\n",
    "    - le linoléum aspect bois est à 15 € le mètre-carré \n",
    "    - le coût de la signalétique (numérotation et sigle du lycée) est fixe : 30€ au total\n",
    "\n",
    "Réaliser **en un minimum de lignes de code** un programme qui affiche le coût de cette réalisation selon les dimensions choisies :"
   ]
  },
  {
   "cell_type": "code",
   "execution_count": null,
   "metadata": {},
   "outputs": [],
   "source": [
    "# Mon code béton :"
   ]
  }
 ],
 "metadata": {
  "kernelspec": {
   "display_name": "Python 3",
   "language": "python",
   "name": "python3"
  },
  "language_info": {
   "codemirror_mode": {
    "name": "ipython",
    "version": 3
   },
   "file_extension": ".py",
   "mimetype": "text/x-python",
   "name": "python",
   "nbconvert_exporter": "python",
   "pygments_lexer": "ipython3",
   "version": "3.7.3"
  }
 },
 "nbformat": 4,
 "nbformat_minor": 2
}
