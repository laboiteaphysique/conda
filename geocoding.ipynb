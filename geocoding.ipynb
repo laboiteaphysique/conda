{
 "cells": [
  {
   "cell_type": "markdown",
   "metadata": {},
   "source": [
    "# Utilisation d'une API de géocodage : GeoPy\n",
    "\n",
    "La documentation de cette API se trouve sur cette page : https://geopy.readthedocs.io/en/latest/ \n",
    "Un service de geocodage permet d’associer une adresse postale à des coordonnées géographiques (latitude et longitude). \n",
    "\n",
    "A partir de ces données il est possible de faire une multitude de traitements (exemple calculer la distance entre deux adresses géolocalisées). Le géocodage inverse (reverse geocoding) permet à partir de coordonnées de déterminer l’adresse postale associée.\n",
    "\n",
    "Geopy permet d’accéder en Python à différents services web de géocodage (Google, IGNFrance, Nominatim (OpenStreetMap), TomTom … \n",
    "\n",
    "![title](images/geopy.png)\n",
    "\n",
    "Dans cette initiation, on se propose de travailler avec le geocoder associé à OpenStreetMap (www.openstreetmap.org ) : Nominatim "
   ]
  },
  {
   "cell_type": "code",
   "execution_count": null,
   "metadata": {},
   "outputs": [],
   "source": [
    "# Exécuter cette cellule pour pouvoir disposer du module geopy\n",
    "!pip install geopy"
   ]
  },
  {
   "cell_type": "code",
   "execution_count": null,
   "metadata": {},
   "outputs": [],
   "source": [
    "import geopy\n",
    "\n",
    "codeur = geopy.geocoders.Nominatim(user_agent = \"bibi\")\n",
    "\n",
    "lieu = codeur.geocode('Lycée Pasteur Somain')\n",
    "\n",
    "# afficher l'adresse complète du lieu, puis le tuple donnant sa latitude et sa longitude :\n"
   ]
  }
 ],
 "metadata": {
  "kernelspec": {
   "display_name": "Python 3",
   "language": "python",
   "name": "python3"
  },
  "language_info": {
   "codemirror_mode": {
    "name": "ipython",
    "version": 3
   },
   "file_extension": ".py",
   "mimetype": "text/x-python",
   "name": "python",
   "nbconvert_exporter": "python",
   "pygments_lexer": "ipython3",
   "version": "3.7.3"
  }
 },
 "nbformat": 4,
 "nbformat_minor": 2
}
