{
 "cells": [
  {
   "cell_type": "markdown",
   "metadata": {},
   "source": [
    "# Les tuples (suite)\n",
    "\n",
    "Ce deuxième notebook sur les tuples va nous permettre d'approfondir leur utilisation.\n",
    "\n",
    "On reprend le problème des régions et départements. Le notebook précédent nous a permis de créer pour une région donnée, un tuple du type :\n",
    "\n",
    " **nom_region = ( ( N° du dpt , \"Nom du dpt\" , Superficie), ( N° du dpt , \"Nom du dpt\" , Superficie),...)**\n",
    " \n",
    " On veut associer à ce premier tuple, un secon tuple donnant la population pour chaque département de la région pour une année donnée. La structure de ce tuple sera :\n",
    " \n",
    " **pop_region_annee = (annee, (population_dpt1, population_dpt2, ..., population_dernier_dpt))**\n",
    " \n",
    "### 1- Récupérer des informations dans deux tuples\n",
    "\n",
    " Une recherche sur Internet nous a permis d'obtenir la population pour les départements de la région Hauts de France en 2018 :\n",
    " \n",
    " \n",
    "| Numéro |        Nom        |    Population  |\n",
    "| -------| ----------------- | -------------- |\n",
    "|   02   |     Aisne         |      533316     |\n",
    "|   59   |   Nord            |       2606234     |\n",
    "|   60   |  Oise             |    827153       |\n",
    "|   62   |   Pas de Calais   |    1466743      |\n",
    "|   80   |   Somme           |     570662      |\n",
    " \n",
    " \n",
    " On a donc maintenant à disposition les deux tuples suivants :\n",
    " \n",
    " **hdf = ((2,\"Aisne\", 7362), (59,\"Nord\", 5743),\n",
    "         (60, \"Oise\", 5860), (62,\"Pas de Calais\", 6671), (80,\"Somme\", 6170))**\n",
    " \n",
    " et \n",
    " \n",
    " **pop_hdf_2018 = (2018, (533316, 2606234, 827153, 1466743, 570662))**\n",
    "\n",
    "Ecrire un programme permettant d'aller chercher les informations dans ces deux tuples pour \n",
    "afficher un tableau tel que celui-ci :\n",
    "  ![title](images/dpt_pop_1.png)\n",
    "\n",
    "\n",
    "*Remarque : pour obtenir cet aspect de tableau on utilise dans les print( ) :*\n",
    "   \n",
    "   - des tabulations obtenues en insérant la \"séquence d'échappement\" : \\t dans les chaînes\n",
    "   de caractères ou entre les éléments à afficher\n",
    "   - le symbole '|' obtenu avec les touches AltGr et 6\n",
    "   \n",
    "Le code ci-dessous donne les deux tuples et le début de construction du tableau...\n",
    "... à vous de trouver le reste !"
   ]
  },
  {
   "cell_type": "code",
   "execution_count": null,
   "metadata": {},
   "outputs": [],
   "source": [
    "hdf = ((2,\"Aisne        \", 7362), (59,\"Nord         \", 5743),\n",
    "       (60, \"Oise         \", 5860), (62,\"Pas de Calais\", 6671), (80,\"Somme        \", 6170))\n",
    "\n",
    "\n",
    "pop_hdf_2018 = (2018, (533316, 2606234, 827153, 1466743, 570662))\n",
    "print('|----------------------------------------------------------------|')\n",
    "print('|   Département \\t |Superficie \\t\\t | Population  \\t |')\n",
    "# suite du code :"
   ]
  },
  {
   "cell_type": "markdown",
   "metadata": {},
   "source": [
    "## 2 - Une petite amélioration :\n",
    "\n",
    "On souhaite voir apparaître en dessous de l'en-tête population, l'année correspondante ...\n",
    "MAIS cette date **sera prélevée par programmation dans le tuple pop_hdf_2018** pour être affichée :\n",
    "\n",
    " ![title](images/dpt_pop_2.png)"
   ]
  },
  {
   "cell_type": "code",
   "execution_count": null,
   "metadata": {},
   "outputs": [],
   "source": [
    "hdf = ((2,\"Aisne        \", 7362), (59,\"Nord         \", 5743),\n",
    "       (60, \"Oise         \", 5860), (62,\"Pas de Calais\", 6671), (80,\"Somme        \", 6170))\n",
    "\n",
    "\n",
    "pop_hdf_2018 = (2018, (533316, 2606234, 827153, 1466743, 570662))\n",
    "print('|----------------------------------------------------------------|')\n",
    "print('|   Département \\t |Superficie \\t\\t | Population  \\t |')\n",
    "# suite du code :"
   ]
  },
  {
   "cell_type": "markdown",
   "metadata": {},
   "source": [
    "## 3- Densité de population\n",
    "\n",
    "La densité de la population donne le nombre d'habitants par km².\n",
    "\n",
    "**Elle est obtenue en divisant la population par la superficie (exprimée en km²).**\n",
    "\n",
    "Modifier le code précédent pour obtenir une quatrième colonne donnant (en habitants/km²) \n",
    "la densité de population de chaque département. Le résultat sera donné avec une précision\n",
    "égale au 1/10ème ( = on ne gardera qu'un chiffre après la virgule) :\n",
    "\n",
    " ![title](images/dpt_pop_3.png)"
   ]
  },
  {
   "cell_type": "code",
   "execution_count": null,
   "metadata": {},
   "outputs": [],
   "source": [
    "hdf = ((2,\"Aisne        \", 7362), (59,\"Nord         \", 5743),\n",
    "       (60, \"Oise         \", 5860), (62,\"Pas de Calais\", 6671), (80,\"Somme        \", 6170))\n",
    "\n",
    "\n",
    "pop_hdf_2018 = (2018, (533316, 2606234, 827153, 1466743, 570662))\n",
    "# suite du code :"
   ]
  }
 ],
 "metadata": {
  "kernelspec": {
   "display_name": "Python 3",
   "language": "python",
   "name": "python3"
  },
  "language_info": {
   "codemirror_mode": {
    "name": "ipython",
    "version": 3
   },
   "file_extension": ".py",
   "mimetype": "text/x-python",
   "name": "python",
   "nbconvert_exporter": "python",
   "pygments_lexer": "ipython3",
   "version": "3.7.3"
  }
 },
 "nbformat": 4,
 "nbformat_minor": 2
}
